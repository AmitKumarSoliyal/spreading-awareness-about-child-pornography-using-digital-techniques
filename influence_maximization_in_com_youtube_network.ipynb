{
 "cells": [
  {
   "cell_type": "code",
   "execution_count": 1,
   "metadata": {},
   "outputs": [],
   "source": [
    "import greedy_algorithm\n",
    "import celf\n",
    "import celfpp\n",
    "import simulated_annealing\n",
    "import genetic_algorithm\n",
    "import artificial_bee_colony_optimization"
   ]
  },
  {
   "cell_type": "code",
   "execution_count": 2,
   "metadata": {},
   "outputs": [],
   "source": [
    "import random\n",
    "import math\n",
    "import time\n",
    "import numpy as np\n",
    "import matplotlib.pyplot as plt\n",
    "from igraph import Graph  \n",
    "from tqdm import tqdm\n",
    "from itertools import product\n",
    "import itertools \n",
    "import pandas as pd\n",
    "import heapq\n",
    "import copy"
   ]
  },
  {
   "cell_type": "code",
   "execution_count": 3,
   "metadata": {},
   "outputs": [
    {
     "name": "stdout",
     "output_type": "stream",
     "text": [
      "   source  target\n",
      "0       1       4\n",
      "1       1       5\n",
      "2       1       6\n",
      "3       1       7\n",
      "4       1       8\n",
      "5       1       9\n",
      "6       1      10\n",
      "7       1      11\n",
      "8       1      12\n",
      "9       1      13\n"
     ]
    }
   ],
   "source": [
    "df = pd.read_csv('dataset/com-youtube.ungraph.txt.gz', compression='gzip', names=[\"source\", \"target\"], sep='\\t', quotechar='\"', error_bad_lines=False)\n",
    "print(df.head(10))"
   ]
  },
  {
   "cell_type": "code",
   "execution_count": 4,
   "metadata": {},
   "outputs": [],
   "source": [
    "df['source'] = df['source'].astype(int)\n",
    "df['target'] = df['target'].astype(int)"
   ]
  },
  {
   "cell_type": "code",
   "execution_count": 5,
   "metadata": {},
   "outputs": [],
   "source": [
    "df=df-[1,1]"
   ]
  },
  {
   "cell_type": "code",
   "execution_count": 6,
   "metadata": {},
   "outputs": [
    {
     "data": {
      "text/plain": [
       "source    0\n",
       "target    3\n",
       "dtype: int64"
      ]
     },
     "execution_count": 6,
     "metadata": {},
     "output_type": "execute_result"
    }
   ],
   "source": [
    "df.min()"
   ]
  },
  {
   "cell_type": "code",
   "execution_count": 7,
   "metadata": {},
   "outputs": [
    {
     "data": {
      "text/plain": [
       "source    1157803\n",
       "target    1157826\n",
       "dtype: int64"
      ]
     },
     "execution_count": 7,
     "metadata": {},
     "output_type": "execute_result"
    }
   ],
   "source": [
    "df.max()"
   ]
  },
  {
   "cell_type": "code",
   "execution_count": 8,
   "metadata": {},
   "outputs": [
    {
     "name": "stdout",
     "output_type": "stream",
     "text": [
      "Number of vertices in the graph: 1157827\n",
      "Number of edges in the graph 2987622\n",
      "Is the graph directed: True\n",
      "Maximum degree in the graph: 28754\n"
     ]
    }
   ],
   "source": [
    "com_youtube_network=Graph(directed=True)\n",
    "com_youtube_network.add_vertices(1157827)\n",
    "com_youtube_network.add_edges(zip(df[\"source\"], df[\"target\"]))\n",
    "print(\"Number of vertices in the graph:\",com_youtube_network.vcount())\n",
    "print(\"Number of edges in the graph\",com_youtube_network.ecount())\n",
    "print(\"Is the graph directed:\", com_youtube_network.is_directed())\n",
    "print(\"Maximum degree in the graph:\", com_youtube_network.maxdegree())"
   ]
  },
  {
   "cell_type": "code",
   "execution_count": 9,
   "metadata": {},
   "outputs": [
    {
     "data": {
      "text/plain": [
       "'IGRAPH D--- 1157827 2987622 -- '"
      ]
     },
     "execution_count": 9,
     "metadata": {},
     "output_type": "execute_result"
    }
   ],
   "source": [
    "com_youtube_network.summary()"
   ]
  },
  {
   "cell_type": "code",
   "execution_count": 10,
   "metadata": {},
   "outputs": [
    {
     "name": "stderr",
     "output_type": "stream",
     "text": [
      "100%|██████████| 6/6 [2:28:07<00:00, 1481.28s/it]  \n"
     ]
    }
   ],
   "source": [
    "graph=com_youtube_network\n",
    "# brute_force_spreads1=[] \n",
    "# brute_force_elapsed1=[] \n",
    "# greedy_spreads1=[] \n",
    "# greedy_elapsed1=[] \n",
    "# celf_spreads1=[] \n",
    "# celf_elapsed1=[] \n",
    "# celfpp_spreads1=[] \n",
    "# celfpp_elapsed1=[]\n",
    "simulated_annealing_spreads1=[] \n",
    "simulated_annealing_elapsed1=[] \n",
    "genetic_algorithm_spreads1=[] \n",
    "genetic_algorithm_elapsed1=[]\n",
    "artificial_bee_colony_optimization_spreads1=[]\n",
    "artificial_bee_colony_optimization_elapsed1=[]\n",
    "lower_seed_size,higher_seed_size=50,56\n",
    "for i in tqdm(range(lower_seed_size,higher_seed_size,1)):\n",
    "    k = i\n",
    "    prob = 0.1\n",
    "    n_iters =10\n",
    "    #brute_force_solution,brute_force_spreads,brute_force_elapsed=brute_force(graph,k,prob,n_iters)\n",
    "    #greedy_solution, greedy_spreads, greedy_elapsed = greedy_algorithm.algo(graph, k, prob, n_iters)\n",
    "#     celf_solution, celf_spreads, celf_elapsed= celf.algo(graph, k, prob, n_iters)\n",
    "#     celfpp_solution, celfpp_spreads, celfpp_elapsed = celfpp.algo(graph, k, prob, n_iters)\n",
    "    simulated_annealing_solution,simulated_annealing_spreads,simulated_annealing_elapsed=simulated_annealing.algo(graph,k,prob,n_iters)\n",
    "    generation_count=20\n",
    "    population_size=100\n",
    "    genetic_algorithm_solution,genetic_algorithm_spreads,genetic_algorithm_elapsed=genetic_algorithm.algo(graph,generation_count,population_size,k)\n",
    "    \n",
    "#     artificial_bee_colony_optimization_solution,artificial_bee_colony_optimization_spreads,artificial_bee_colony_optimization_elapsed=artificial_bee_colony_optimization.algo(graph,k,prob,n_iters)\n",
    "\n",
    "\n",
    "\n",
    "    #brute_force_spreads1.append(brute_force_spreads) \n",
    "    #brute_force_elapsed1.append(brute_force_elapsed) \n",
    "    \n",
    "#     greedy_spreads1.append(greedy_spreads)\n",
    "#     greedy_elapsed1.append(greedy_elapsed)\n",
    "    \n",
    "#     celf_spreads1.append(celf_spreads) \n",
    "#     celf_elapsed1.append(celf_elapsed)\n",
    "    \n",
    "#     celfpp_spreads1.append(celfpp_spreads) \n",
    "#     celfpp_elapsed1.append(celfpp_elapsed)\n",
    "    \n",
    "    simulated_annealing_spreads1.append(simulated_annealing_spreads) \n",
    "    simulated_annealing_elapsed1.append(simulated_annealing_elapsed)\n",
    "    genetic_algorithm_spreads1.append(genetic_algorithm_spreads) \n",
    "    genetic_algorithm_elapsed1.append(genetic_algorithm_elapsed)\n",
    "#     artificial_bee_colony_optimization_spreads1.append(artificial_bee_colony_optimization_spreads) \n",
    "#     artificial_bee_colony_optimization_elapsed1.append(artificial_bee_colony_optimization_elapsed)"
   ]
  },
  {
   "cell_type": "code",
   "execution_count": 11,
   "metadata": {},
   "outputs": [],
   "source": [
    "x=list(range(lower_seed_size,higher_seed_size,1))"
   ]
  },
  {
   "cell_type": "code",
   "execution_count": 12,
   "metadata": {},
   "outputs": [
    {
     "data": {
      "image/png": "[encoded data removed]",
      "text/plain": [
       "<Figure size 432x288 with 1 Axes>"
      ]
     },
     "metadata": {
      "needs_background": "light"
     },
     "output_type": "display_data"
    }
   ],
   "source": [
    "# plotting the points  \n",
    "#plt.plot(x, y1,label=\"Brute-force\") \n",
    "\n",
    "# plt.plot(x, greedy_spreads1,label=\"Greedy\")\n",
    "\n",
    "# plt.plot(x, celf_spreads1,label=\"CELF\")\n",
    "\n",
    "# plt.plot(x, celfpp_spreads1,label=\"CELF++\")\n",
    "\n",
    "plt.plot(x, simulated_annealing_spreads1,label=\"Simulated-Annealing\")\n",
    "plt.plot(x, genetic_algorithm_spreads1,label=\"Genetic-Algorithm\")\n",
    "# plt.plot(x, artificial_bee_colony_optimization_spreads1,label=\"Artificial-Bee-Colony-Optimization\")\n",
    "# naming the x axis \n",
    "plt.xlabel('Size of Seed Set') \n",
    "# naming the y axis \n",
    "plt.ylabel('Expected Spread') \n",
    "  \n",
    "# giving a title to my graph \n",
    "plt.title('Spread-Graph') \n",
    "plt.legend()\n",
    "# function to show the plot \n",
    "plt.show() "
   ]
  },
  {
   "cell_type": "code",
   "execution_count": 13,
   "metadata": {},
   "outputs": [
    {
     "data": {
      "image/png": "[encoded data removed]",
      "text/plain": [
       "<Figure size 432x288 with 1 Axes>"
      ]
     },
     "metadata": {
      "needs_background": "light"
     },
     "output_type": "display_data"
    }
   ],
   "source": [
    "# plotting the points \n",
    "#plt.plot(x, brute_force_elapsed1,label=\"Brute-force\") \n",
    "\n",
    "# plt.plot(x, greedy_elapsed1,label=\"Greedy\")\n",
    "\n",
    "# plt.plot(x, celf_elapsed1,label=\"CELF\")\n",
    "\n",
    "# plt.plot(x, celfpp_elapsed1,label=\"CELF++\")\n",
    "\n",
    "plt.plot(x, simulated_annealing_elapsed1,label=\"Simulated-Annealing\")\n",
    "plt.plot(x, genetic_algorithm_elapsed1,label=\"Genetic-Algorithm\")\n",
    "# plt.plot(x, artificial_bee_colony_optimization_elapsed1,label=\"Artificial-Bee-Colony-Optimization\")\n",
    "# naming the x axis \n",
    "plt.xlabel('Size of Seed Set') \n",
    "# naming the y axis \n",
    "plt.ylabel('Computation Time') \n",
    "  \n",
    "# giving a title to my graph \n",
    "plt.title('Computation-Graph') \n",
    "plt.legend()\n",
    "# function to show the plot \n",
    "plt.show() "
   ]
  },
  {
   "cell_type": "code",
   "execution_count": null,
   "metadata": {},
   "outputs": [],
   "source": []
  }
 ],
 "metadata": {
  "kernelspec": {
   "display_name": "Python 3",
   "language": "python",
   "name": "python3"
  },
  "language_info": {
   "codemirror_mode": {
    "name": "ipython",
    "version": 3
   },
   "file_extension": ".py",
   "mimetype": "text/x-python",
   "name": "python",
   "nbconvert_exporter": "python",
   "pygments_lexer": "ipython3",
   "version": "3.7.6"
  }
 },
 "nbformat": 4,
 "nbformat_minor": 4
}

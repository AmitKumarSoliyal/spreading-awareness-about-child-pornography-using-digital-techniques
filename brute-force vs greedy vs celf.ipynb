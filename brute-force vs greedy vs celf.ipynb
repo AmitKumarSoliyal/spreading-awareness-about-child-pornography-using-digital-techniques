{
 "cells": [
  {
   "cell_type": "code",
   "execution_count": 1,
   "metadata": {},
   "outputs": [],
   "source": [
  
    "\n",
    "\n",
    "import time\n",
    "import numpy as np\n",
    "import matplotlib.pyplot as plt\n",
    "from igraph import Graph  # pip install python-igraph\n",
    "from tqdm import tqdm\n",
    "from itertools import product\n",
    "import itertools "
   ]
  },
  {
   "cell_type": "code",
   "execution_count": 2,
   "metadata": {},
   "outputs": [
    {
     "name": "stdout",
     "output_type": "stream",
     "text": [
      "vertices count: 10\n",
      "edges count: 20\n",
      "neighbors:  [6]\n"
     ]
    },
    {
     "data": {
      "text/plain": [
       "[[2, 3, 4, 5, 6, 7, 8, 9],\n",
       " [2, 3, 4, 5, 6, 7, 8, 9],\n",
       " [6],\n",
       " [7],\n",
       " [8],\n",
       " [9],\n",
       " [],\n",
       " [],\n",
       " [],\n",
       " []]"
      ]
     },
     "execution_count": 2,
     "metadata": {},
     "output_type": "execute_result"
    }
   ],
   "source": [
    "source = [0, 0, 0, 0, 0, 0, 0, 0, 1, 1, 1, 1, 1, 1, 1, 1, 2, 3, 4, 5]\n",
    "target = [2, 3, 4, 5, 6, 7, 8, 9, 2, 3, 4, 5, 6, 7, 8, 9, 6, 7, 8, 9]\n",
    "\n",
    "# create a directed graph\n",
    "graph = Graph(directed=True)\n",
    "\n",
    "# add the nodes/vertices (the two are used interchangeably) and edges\n",
    "# 1. the .add_vertices method adds the number of vertices\n",
    "# to the graph and igraph uses integer vertex id starting from zero\n",
    "# 2. to add edges, we call the .add_edges method, where edges\n",
    "# are specified by a tuple of integers. \n",
    "graph.add_vertices(10)\n",
    "graph.add_edges(zip(source,  target))\n",
    "print('vertices count:',  graph.vcount())\n",
    "print('edges count:',  graph.ecount())\n",
    "\n",
    "# a graph api should allow us to retrieve the neighbors of a node\n",
    "print('neighbors: ', graph.neighbors(2, mode='out'))\n",
    "\n",
    "# or create an adjacency list of the graph,\n",
    "# as we can see node 0 and 1 are the most influential\n",
    "# as the two nodes are connected to a lot of other nodes\n",
    "graph.get_adjlist()"
   ]
  },
  {
   "cell_type": "code",
   "execution_count": 3,
   "metadata": {},
   "outputs": [
    {
     "data": {
      "text/plain": [
       "2.74"
      ]
     },
     "execution_count": 3,
     "metadata": {},
     "output_type": "execute_result"
    }
   ],
   "source": [
    "def compute_independent_cascade(graph, seed_nodes, prob, n_iters=1000):\n",
    "    total_spread = 0\n",
    "\n",
    "    # simulate the spread process over multiple runs\n",
    "    for i in range(n_iters):\n",
    "        np.random.seed(i)\n",
    "        active = seed_nodes[:]\n",
    "        new_active = seed_nodes[:]\n",
    "        \n",
    "        # for each newly activated nodes, find its neighbors that becomes activated\n",
    "        while new_active:\n",
    "            activated_nodes = []\n",
    "            for node in new_active:\n",
    "                neighbors = graph.neighbors(node, mode='out')\n",
    "                success = np.random.uniform(0, 1, len(neighbors)) < prob\n",
    "                activated_nodes += list(np.extract(success, neighbors))\n",
    "\n",
    "            # ensure the newly activated nodes doesn't already exist\n",
    "            # in the final list of activated nodes before adding them\n",
    "            # to the final list\n",
    "            new_active = list(set(activated_nodes) - set(active))\n",
    "            active += new_active\n",
    "\n",
    "        total_spread += len(active)\n",
    "\n",
    "    return total_spread / n_iters\n",
    "\n",
    "\n",
    "# assuming we start with 1 seed node\n",
    "seed_nodes = [0]\n",
    "compute_independent_cascade(graph, seed_nodes, prob=0.2)"
   ]
  },
  {
   "cell_type": "code",
   "execution_count": 4,
   "metadata": {},
   "outputs": [],
   "source": [
    "\n",
    "def brute_force(graph, k=2, prob=0.2, n_iters=1000):\n",
    "    #elapsed = []\n",
    "    #spreads = []\n",
    "    #solution = []\n",
    "    start_time = time.time()\n",
    "    seed_sets=list(itertools.combinations(range(graph.vcount()), k)) \n",
    "    #seed_sets=list(product(list(range(graph.vcount())),repeat=k))\n",
    "    best_spread = -np.inf\n",
    "    best_seed=[]\n",
    "    for seed in tqdm(seed_sets):\n",
    "        spread = compute_independent_cascade(graph,list(seed), prob, n_iters)\n",
    "        if spread > best_spread:\n",
    "                best_spread = spread\n",
    "                best_seed=seed\n",
    "        #solution.append(best_seed)\n",
    "       # spreads.append(best_spread)\n",
    "\n",
    "\n",
    "        #elapse = round(time.time() - start_time, 3)\n",
    "       # elapsed.append(elapse)\n",
    "    end_time=time.time()\n",
    "    return best_seed, best_spread*100/graph.vcount(),round(end_time-start_time,2)\n"
   ]
  },
  {
   "cell_type": "code",
   "execution_count": 5,
   "metadata": {},
   "outputs": [
    {
     "name": "stderr",
     "output_type": "stream",
     "text": [
      "100%|██████████| 45/45 [00:00<00:00, 212.88it/s]"
     ]
    },
    {
     "name": "stdout",
     "output_type": "stream",
     "text": [
      "solution:  (0, 1)\n",
      "spreads:  56.0 %\n",
      "elapsed:  0.22 sec.\n"
     ]
    },
    {
     "name": "stderr",
     "output_type": "stream",
     "text": [
      "\n"
     ]
    }
   ],
   "source": [
    "brute_force_solution,brute_force_spreads,brute_force_elapsed=brute_force(graph,k=2,prob=0.2,n_iters=20)\n",
    "print('solution: ', brute_force_solution)\n",
    "print('spreads: ', brute_force_spreads,'%')\n",
    "print('elapsed: ', brute_force_elapsed,'sec.')"
   ]
  },
  {
   "cell_type": "code",
   "execution_count": null,
   "metadata": {},
   "outputs": [],
   "source": []
  },
  {
   "cell_type": "code",
   "execution_count": 6,
   "metadata": {},
   "outputs": [],
   "source": [
    "def greedy(graph, k, prob=0.2, n_iters=1000):\n",
    "    \"\"\"\n",
    "    Find k nodes with the largest spread (determined by IC) from a igraph graph\n",
    "    using the Greedy Algorithm.\n",
    "    \"\"\"\n",
    "\n",
    "    # we will be storing elapsed time and spreads along the way, in a setting where\n",
    "    # we only care about the final solution, we don't need to record these\n",
    "    # additional information\n",
    "    elapsed = []\n",
    "    spreads = []\n",
    "    solution = []\n",
    "    start_time = time.time()\n",
    "    for _ in tqdm(range(k)):\n",
    "        best_node = -1\n",
    "        best_spread = -np.inf\n",
    "\n",
    "        # loop over nodes that are not yet in our final solution\n",
    "        # to find biggest marginal gain\n",
    "        nodes = set(range(graph.vcount())) - set(solution)\n",
    "        for node in nodes:\n",
    "            spread = compute_independent_cascade(graph, solution + [node], prob, n_iters)\n",
    "            if spread > best_spread:\n",
    "                best_spread = spread\n",
    "                best_node = node\n",
    "\n",
    "        solution.append(best_node)\n",
    "        #spreads.append(best_spread)\n",
    "\n",
    "        #elapse = round(time.time() - start_time, 3)\n",
    "       # elapsed.append(elapse)\n",
    "    end_time=time.time()\n",
    "    return solution, round(best_spread*100/graph.vcount(),2), round(end_time-start_time, 2)"
   ]
  },
  {
   "cell_type": "code",
   "execution_count": null,
   "metadata": {},
   "outputs": [],
   "source": []
  },
  {
   "cell_type": "code",
   "execution_count": 7,
   "metadata": {},
   "outputs": [
    {
     "name": "stderr",
     "output_type": "stream",
     "text": [
      "100%|██████████| 4/4 [00:00<00:00, 32.94it/s]"
     ]
    },
    {
     "name": "stdout",
     "output_type": "stream",
     "text": [
      "solution:  [0, 1, 3, 2]\n",
      "spreads:  67.0 %\n",
      "elapsed:  0.13 sec.\n"
     ]
    },
    {
     "name": "stderr",
     "output_type": "stream",
     "text": [
      "\n"
     ]
    }
   ],
   "source": [
    "# the result tells us greedy algorithm was able to find the two most influential\n",
    "# node, node 0 and node 1\n",
    "k = 4\n",
    "prob = 0.2\n",
    "n_iters = 10\n",
    "greedy_solution, greedy_spreads, greedy_elapsed = greedy(graph, k, prob, n_iters)\n",
    "print('solution: ', greedy_solution)\n",
    "print('spreads: ', greedy_spreads,'%')\n",
    "print('elapsed: ', greedy_elapsed,'sec.')"
   ]
  },
  {
   "cell_type": "code",
   "execution_count": 8,
   "metadata": {},
   "outputs": [],
   "source": [
    "import heapq\n",
    "\n",
    "\n",
    "def celf(graph, k, prob, n_iters=1000):\n",
    "    \"\"\"\n",
    "    Find k nodes with the largest spread (determined by IC) from a igraph graph\n",
    "    using the Cost Effective Lazy Forward Algorithm, a.k.a Lazy Greedy Algorithm.\n",
    "    \"\"\"\n",
    "    start_time = time.time()\n",
    "\n",
    "    # find the first node with greedy algorithm:\n",
    "    # python's heap is a min-heap, thus\n",
    "    # we negate the spread to get the node\n",
    "    # with the maximum spread when popping from the heap\n",
    "    gains = []\n",
    "    for node in range(graph.vcount()):\n",
    "        spread = compute_independent_cascade(graph, [node], prob, n_iters)\n",
    "        heapq.heappush(gains, (-spread, node))\n",
    "\n",
    "    # we pop the heap to get the node with the best spread,\n",
    "    # when storing the spread to negate it again to store the actual spread\n",
    "    spread, node = heapq.heappop(gains)\n",
    "    solution = [node]\n",
    "    spread = -spread\n",
    "    spreads = [spread]\n",
    "\n",
    "    # record the number of times the spread is computed\n",
    "    lookups = [graph.vcount()]\n",
    "    elapsed = [round(time.time() - start_time, 3)]\n",
    "\n",
    "    for _ in tqdm(range(k - 1)):\n",
    "        node_lookup = 0\n",
    "        matched = False\n",
    "\n",
    "        while not matched:\n",
    "            node_lookup += 1\n",
    "\n",
    "            # here we need to compute the marginal gain of adding the current node\n",
    "            # to the solution, instead of just the gain, i.e. we need to subtract\n",
    "            # the spread without adding the current node\n",
    "            _, current_node = heapq.heappop(gains)\n",
    "            spread_gain = compute_independent_cascade(\n",
    "                graph, solution + [current_node], prob, n_iters) - spread\n",
    "\n",
    "            # check if the previous top node stayed on the top after pushing\n",
    "            # the marginal gain to the heap\n",
    "            heapq.heappush(gains, (-spread_gain, current_node))\n",
    "            matched = gains[0][1] == current_node\n",
    "\n",
    "        # spread stores the cumulative spread\n",
    "        spread_gain, node = heapq.heappop(gains)\n",
    "        spread -= spread_gain\n",
    "        solution.append(node)\n",
    "        #spreads.append(spread)\n",
    "        lookups.append(node_lookup)\n",
    "\n",
    "        #elapse = round(time.time() - start_time, 3)\n",
    "        #elapsed.append(elapse)\n",
    "    end_time=time.time()\n",
    "    return solution, round(spread*100/graph.vcount(),2), round(end_time-start_time, 2), lookups"
   ]
  },
  {
   "cell_type": "code",
   "execution_count": 9,
   "metadata": {},
   "outputs": [
    {
     "name": "stderr",
     "output_type": "stream",
     "text": [
      "0it [00:00, ?it/s]"
     ]
    },
    {
     "name": "stdout",
     "output_type": "stream",
     "text": [
      "solution:  [0]\n",
      "spreads:  25.0\n",
      "elapsed:  0.02\n",
      "lookups:  [10]\n"
     ]
    },
    {
     "name": "stderr",
     "output_type": "stream",
     "text": [
      "\n"
     ]
    }
   ],
   "source": [
    "k = 1\n",
    "prob = 0.2\n",
    "n_iters = 10\n",
    "\n",
    "celf_solution, celf_spreads, celf_elapsed, celf_lookups = celf(graph, k, prob, n_iters)\n",
    "print('solution: ', celf_solution)\n",
    "print('spreads: ', celf_spreads)\n",
    "print('elapsed: ', celf_elapsed)\n",
    "print('lookups: ', celf_lookups)"
   ]
  },
  {
   "cell_type": "code",
   "execution_count": 10,
   "metadata": {},
   "outputs": [],
   "source": [
    "np.random.seed(1234)\n",
    "graph = Graph.Erdos_Renyi(n=10, m=40, directed=True)\n"
   ]
  },
  {
   "cell_type": "code",
   "execution_count": 11,
   "metadata": {},
   "outputs": [
    {
     "name": "stderr",
     "output_type": "stream",
     "text": [
      "100%|██████████| 3/3 [00:00<00:00, 46.13it/s]\n",
      "100%|██████████| 4/4 [00:00<00:00, 34.55it/s]"
     ]
    },
    {
     "name": "stdout",
     "output_type": "stream",
     "text": [
      "celf output:   [2, 8, 0, 5]\n",
      "greedy output: [2, 8, 5, 7]\n"
     ]
    },
    {
     "name": "stderr",
     "output_type": "stream",
     "text": [
      "\n"
     ]
    }
   ],
   "source": [
    "k = 4\n",
    "prob = 0.1\n",
    "n_iters = 10\n",
    "\n",
    "\n",
    "celf_solution, celf_spreads, celf_elapsed, celf_lookups = celf(graph, k, prob, n_iters)\n",
    "greedy_solution, greedy_spreads, greedy_elapsed = greedy(graph, k, prob, n_iters)\n",
    "\n",
    "# print resulting solution\n",
    "print('celf output:   ' + str(celf_solution))\n",
    "print('greedy output: ' + str(greedy_solution))"
   ]
  },
  {
   "cell_type": "code",
   "execution_count": 12,
   "metadata": {},
   "outputs": [
    {
     "name": "stdout",
     "output_type": "stream",
     "text": [
      "solution:  [2, 8, 5, 7]\n",
      "spreads:  62.0\n",
      "elapsed:  0.12\n"
     ]
    }
   ],
   "source": [
    "print('solution: ', greedy_solution)\n",
    "print('spreads: ', greedy_spreads)\n",
    "print('elapsed: ', greedy_elapsed)"
   ]
  },
  {
   "cell_type": "code",
   "execution_count": 13,
   "metadata": {},
   "outputs": [
    {
     "name": "stdout",
     "output_type": "stream",
     "text": [
      "solution:  [2, 8, 0, 5]\n",
      "spreads:  58.0\n",
      "elapsed:  0.09\n",
      "lookups:  [10, 8, 8, 2]\n"
     ]
    }
   ],
   "source": [
    "print('solution: ', celf_solution)\n",
    "print('spreads: ', celf_spreads)\n",
    "print('elapsed: ', celf_elapsed)\n",
    "print('lookups: ', celf_lookups)"
   ]
  },
  {
   "cell_type": "code",
   "execution_count": 14,
   "metadata": {},
   "outputs": [
    {
     "name": "stderr",
     "output_type": "stream",
     "text": [
      "100%|██████████| 210/210 [00:00<00:00, 219.93it/s]"
     ]
    },
    {
     "name": "stdout",
     "output_type": "stream",
     "text": [
      "solution:  (1, 4, 5, 7)\n",
      "spreads:  60.0\n",
      "elapsed:  0.96\n"
     ]
    },
    {
     "name": "stderr",
     "output_type": "stream",
     "text": [
      "\n"
     ]
    }
   ],
   "source": [
    "brute_force_solution,brute_force_spreads,brute_force_elapsed=brute_force(graph,k,prob,n_iters)\n",
    "print('solution: ', brute_force_solution)\n",
    "print('spreads: ', brute_force_spreads)\n",
    "print('elapsed: ', brute_force_elapsed)"
   ]
  },
  {
   "cell_type": "code",
   "execution_count": 16,
   "metadata": {},
   "outputs": [
    {
     "name": "stderr",
     "output_type": "stream",
     "text": [
      "100%|██████████| 20/20 [00:00<00:00, 961.03it/s]\n",
      "100%|██████████| 1/1 [00:00<00:00, 65.28it/s]\n",
      "0it [00:00, ?it/s]\n",
      "100%|██████████| 190/190 [00:00<00:00, 869.37it/s]\n",
      "100%|██████████| 2/2 [00:00<00:00, 56.75it/s]\n",
      "100%|██████████| 1/1 [00:00<00:00, 325.22it/s]\n",
      "100%|██████████| 1140/1140 [00:01<00:00, 641.32it/s]\n",
      "100%|██████████| 3/3 [00:00<00:00, 44.70it/s]\n",
      "100%|██████████| 2/2 [00:00<00:00, 87.16it/s]\n",
      "100%|██████████| 4845/4845 [00:10<00:00, 453.78it/s]\n",
      "100%|██████████| 4/4 [00:00<00:00, 38.01it/s]\n",
      "100%|██████████| 3/3 [00:00<00:00, 149.82it/s]\n"
     ]
    }
   ],
   "source": [
    "np.random.seed(1234)\n",
    "graph = Graph.Erdos_Renyi(n=20, m=50, directed=True)\n",
    "\n",
    "brute_force_spreads1=[] \n",
    "brute_force_elapsed1=[] \n",
    "greedy_spreads1=[] \n",
    "greedy_elapsed1=[] \n",
    "celf_spreads1=[] \n",
    "celf_elapsed1=[] \n",
    "for i in (range(1,5,1)):\n",
    "    k = i\n",
    "    prob = 0.1\n",
    "    n_iters = 5\n",
    "    brute_force_solution,brute_force_spreads,brute_force_elapsed=brute_force(graph,k,prob,n_iters)\n",
    "    greedy_solution, greedy_spreads, greedy_elapsed = greedy(graph, k, prob, n_iters)\n",
    "    celf_solution, celf_spreads, celf_elapsed, celf_lookups = celf(graph, k, prob, n_iters)\n",
    "    \n",
    "    brute_force_spreads1.append(brute_force_spreads) \n",
    "    brute_force_elapsed1.append(brute_force_elapsed) \n",
    "    greedy_spreads1.append(greedy_spreads)\n",
    "    greedy_elapsed1.append(greedy_elapsed)\n",
    "    celf_spreads1.append(celf_spreads) \n",
    "    celf_elapsed1.append(celf_elapsed)\n",
    "   "
   ]
  },
  {
   "cell_type": "code",
   "execution_count": 17,
   "metadata": {},
   "outputs": [],
   "source": [
    "x=list(range(1,5,1))\n",
    "y1=brute_force_spreads1\n",
    "y2=greedy_spreads1\n",
    "y3=celf_spreads1"
   ]
  },
  {
   "cell_type": "code",
   "execution_count": 18,
   "metadata": {},
   "outputs": [
    {
     "data": {
      "image/png": "[encoded data removed]",
      "text/plain": [
       "<Figure size 576x432 with 1 Axes>"
      ]
     },
     "metadata": {
      "needs_background": "light"
     },
     "output_type": "display_data"
    }
   ],
   "source": [
    "# plotting the points  \n",
    "plt.plot(x, y1,label=\"Brute-force\") \n",
    "plt.plot(x, y2,label=\"Greedy\")\n",
    "plt.plot(x, y3,label=\"CELF\")\n",
    "# naming the x axis \n",
    "plt.xlabel('Size of Seed Set') \n",
    "# naming the y axis \n",
    "plt.ylabel('Expected Spread') \n",
    "  \n",
    "# giving a title to my graph \n",
    "plt.title('Spread-Graph') \n",
    "plt.legend()\n",
    "# function to show the plot \n",
    "plt.show() "
   ]
  },
  {
   "cell_type": "code",
   "execution_count": 19,
   "metadata": {},
   "outputs": [
    {
     "data": {
      "image/png": "[encoded data removed]",
      "text/plain": [
       "<Figure size 576x432 with 1 Axes>"
      ]
     },
     "metadata": {
      "needs_background": "light"
     },
     "output_type": "display_data"
    }
   ],
   "source": [
    "# plotting the points  \n",
    "plt.plot(x, brute_force_elapsed1,label=\"Brute-force\") \n",
    "plt.plot(x, greedy_elapsed1,label=\"Greedy\")\n",
    "plt.plot(x, celf_elapsed1,label=\"CELF\")\n",
    "# naming the x axis \n",
    "plt.xlabel('Size of Seed Set') \n",
    "# naming the y axis \n",
    "plt.ylabel('Computation Time') \n",
    "  \n",
    "# giving a title to my graph \n",
    "plt.title('Computation-Graph') \n",
    "plt.legend()\n",
    "# function to show the plot \n",
    "plt.show() "
   ]
  },
  {
   "cell_type": "code",
   "execution_count": null,
   "metadata": {},
   "outputs": [],
   "source": []
  }
 ],
 "metadata": {
  "kernelspec": {
   "display_name": "Python 3",
   "language": "python",
   "name": "python3"
  },
  "language_info": {
   "codemirror_mode": {
    "name": "ipython",
    "version": 3
   },
   "file_extension": ".py",
   "mimetype": "text/x-python",
   "name": "python",
   "nbconvert_exporter": "python",
   "pygments_lexer": "ipython3",
   "version": "3.7.4"
  }
 },
 "nbformat": 4,
 "nbformat_minor": 2
}

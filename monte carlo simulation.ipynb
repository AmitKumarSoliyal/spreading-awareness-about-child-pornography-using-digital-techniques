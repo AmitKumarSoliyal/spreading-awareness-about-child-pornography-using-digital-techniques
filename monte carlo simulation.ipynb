{
 "cells": [
  {
   "cell_type": "markdown",
   "metadata": {},
   "source": [
    "# All the dependencies"
   ]
  },
  {
   "cell_type": "code",
   "execution_count": 1,
   "metadata": {},
   "outputs": [],
   "source": [
    "import time\n",
    "import numpy as np\n",
    "import matplotlib.pyplot as plt\n",
    "from igraph import Graph  \n",
    "from tqdm import tqdm\n",
    "from itertools import product\n",
    "import itertools "
   ]
  },
  {
   "cell_type": "markdown",
   "metadata": {},
   "source": [
    "# Creating Graph"
   ]
  },
  {
   "cell_type": "code",
   "execution_count": 2,
   "metadata": {},
   "outputs": [
    {
     "name": "stdout",
     "output_type": "stream",
     "text": [
      "vertices: 10\n",
      "edges: 20\n"
     ]
    }
   ],
   "source": [
    "source = [0, 0, 0, 0, 0, 0, 0, 0, 1, 1, 1, 1, 1, 1, 1, 1, 2, 3, 4, 5]\n",
    "target = [2, 3, 4, 5, 6, 7, 8, 9, 2, 3, 4, 5, 6, 7, 8, 9, 6, 7, 8, 9]\n",
    "\n",
    "# create a directed graph\n",
    "graph = Graph(directed=True)\n",
    "\n",
    "# add the nodes/vertices (the two are used interchangeably) and edges\n",
    "# 1. the .add_vertices method adds the number of vertices\n",
    "# to the graph and igraph uses integer vertex id starting from zero\n",
    "# 2. to add edges, we call the .add_edges method, where edges\n",
    "# are specified by a tuple of integers. \n",
    "graph.add_vertices(10)\n",
    "graph.add_edges(zip(source,  target))\n",
    "print('vertices:',  graph.vcount())\n",
    "print('edges:',  graph.ecount())"
   ]
  },
  {
   "cell_type": "markdown",
   "metadata": {},
   "source": [
    "\n",
    "# Simulation of Independent cascade model using monte carlo simulation"
   ]
  },
  {
   "cell_type": "code",
   "execution_count": 3,
   "metadata": {},
   "outputs": [],
   "source": [
    "def independent_cascade_model(graph, seed_nodes, prob, n_iters):\n",
    "    total_spread = 0\n",
    "\n",
    "    # simulate the spread process over multiple runs\n",
    "    for i in range(n_iters):\n",
    "        np.random.seed(i)\n",
    "        active = seed_nodes[:]\n",
    "        new_active = seed_nodes[:]\n",
    "        \n",
    "        # for each newly activated nodes, find its neighbors that becomes activated\n",
    "        while new_active:\n",
    "            activated_nodes = []\n",
    "            for node in new_active:\n",
    "                neighbors = graph.neighbors(node, mode='out')\n",
    "                success = np.random.uniform(0, 1, len(neighbors)) < prob\n",
    "                activated_nodes += list(np.extract(success, neighbors))\n",
    "\n",
    "            # ensure the newly activated nodes doesn't already exist\n",
    "            # in the final list of activated nodes before adding them\n",
    "            # to the final list\n",
    "            new_active = list(set(activated_nodes) - set(active))\n",
    "            #print(new_active)\n",
    "            active += new_active\n",
    "\n",
    "        total_spread += len(active)\n",
    "\n",
    "    return total_spread / n_iters"
   ]
  },
  {
   "cell_type": "markdown",
   "metadata": {},
   "source": [
    "In the simulation of independent cascade model using monte carlo simulation we have four parameters first one is graph, second one is seed notes, third one is probaility(probability of each node to become active when influenced by its neighbor), and fourth one is number of iteration(how many time we have to simulate this independent cascade to get expected spread). This simulation returns the expected number of nodes those became active during this simulation process. later we can calculate the percentage of nodes who became active."
   ]
  },
  {
   "cell_type": "markdown",
   "metadata": {},
   "source": [
    "\n",
    "NOTE: In the independent cascade model initially all the nodes will be inactive except seed nodes and these seed nodes will be treated as newly activated nodes in the first iteration,and these newly activated nodes will influence its neighbor to become active but only few of them become active on the basis of probaility parameter, all the nodes who became active in the current iteration will be newly activated nodes for the next iteration, once a node influnces its neighbor then it can not influence its neighbor again in the next iteration i,e. only newly activated node will particepate in the spreading process in the next iteration. This spreading process will halt when there is no newly activated nodes present in the graph."
   ]
  },
  {
   "cell_type": "markdown",
   "metadata": {},
   "source": [
    "# Experiment to see how probaility of being influenced by its neighbor play role in the process of sprading awareness in the graph"
   ]
  },
  {
   "cell_type": "code",
   "execution_count": 4,
   "metadata": {},
   "outputs": [
    {
     "name": "stdout",
     "output_type": "stream",
     "text": [
      "when probability=0.1,spread=35.78\n",
      "when probability=0.2,spread=50.980000000000004\n",
      "when probability=0.3,spread=64.66999999999999\n",
      "when probability=0.4,spread=75.13\n",
      "when probability=0.5,spread=84.16999999999999\n",
      "when probability=0.6,spread=90.57000000000001\n",
      "when probability=0.7,spread=95.06\n",
      "when probability=0.8,spread=98.03\n",
      "when probability=0.9,spread=99.67999999999999\n",
      "when probability=1.0,spread=100.0\n"
     ]
    }
   ],
   "source": [
    "# assuming we start with [0 1 ] as seed nodes\n",
    "seed_nodes = [0,1]\n",
    "\n",
    "x=[0.1, 0.2, 0.3, 0.4, 0.5, 0.6, 0.7, 0.8, 0.9, 1.0]\n",
    "for i in x:\n",
    "    spread=independent_cascade_model(graph, seed_nodes, prob=i,n_iters=1000)\n",
    "    print('when probability='+\n",
    "          str(i)+',spread='+str(spread*100/graph.vcount()))"
   ]
  },
  {
   "cell_type": "markdown",
   "metadata": {},
   "source": [
    "# Conclusion"
   ]
  },
  {
   "cell_type": "markdown",
   "metadata": {},
   "source": [
    "We can see the result of experiment which tells that if the probability of being influenced by its neighbor is 1 then all the nodes in the graph will be influenced by the independent cascade model provided there is no disconnected component in the graph. However this doesn't happen in real social network so we can use probability perameter by analyzing the fact how often the neighbors become active when influenced by its neighbor. So we can tune this probability parameter as per our need."
   ]
  }
 ],
 "metadata": {
  "kernelspec": {
   "display_name": "Python 3",
   "language": "python",
   "name": "python3"
  },
  "language_info": {
   "codemirror_mode": {
    "name": "ipython",
    "version": 3
   },
   "file_extension": ".py",
   "mimetype": "text/x-python",
   "name": "python",
   "nbconvert_exporter": "python",
   "pygments_lexer": "ipython3",
   "version": "3.8.3"
  }
 },
 "nbformat": 4,
 "nbformat_minor": 4
}

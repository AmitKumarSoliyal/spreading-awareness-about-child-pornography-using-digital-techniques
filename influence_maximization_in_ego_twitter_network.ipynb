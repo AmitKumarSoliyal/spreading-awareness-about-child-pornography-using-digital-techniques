{
 "cells": [
  {
   "cell_type": "code",
   "execution_count": 1,
   "metadata": {},
   "outputs": [],
   "source": [
    "import greedy_algorithm\n",
    "import celf\n",
    "import celfpp\n",
    "import simulated_annealing\n",
    "import genetic_algorithm\n",
    "import artificial_bee_colony_optimization"
   ]
  },
  {
   "cell_type": "code",
   "execution_count": 2,
   "metadata": {},
   "outputs": [],
   "source": [
    "import random\n",
    "import math\n",
    "import time\n",
    "import numpy as np\n",
    "import matplotlib.pyplot as plt\n",
    "from igraph import Graph  \n",
    "from tqdm import tqdm\n",
    "from itertools import product\n",
    "import itertools \n",
    "import pandas as pd\n",
    "import heapq\n",
    "import copy"
   ]
  },
  {
   "cell_type": "code",
   "execution_count": 3,
   "metadata": {},
   "outputs": [
    {
     "name": "stdout",
     "output_type": "stream",
     "text": [
      "      source     target\n",
      "0  214328887   34428380\n",
      "1   17116707   28465635\n",
      "2  380580781   18996905\n",
      "3  221036078  153460275\n",
      "4  107830991   17868918\n",
      "5  151338729  222261763\n",
      "6   19705747   34428380\n",
      "7  222261763   88323281\n",
      "8   19933035  149538028\n",
      "9  158419434   17434613\n"
     ]
    }
   ],
   "source": [
    "df = pd.read_csv('dataset/twitter_combined.txt.gz', compression='gzip', names=[\"source\", \"target\"], sep=' ', quotechar='\"', error_bad_lines=False)\n",
    "print(df.head(10))"
   ]
  },
  {
   "cell_type": "code",
   "execution_count": 4,
   "metadata": {},
   "outputs": [
    {
     "data": {
      "text/html": [
       "<div>\n",
       "<style scoped>\n",
       "    .dataframe tbody tr th:only-of-type {\n",
       "        vertical-align: middle;\n",
       "    }\n",
       "\n",
       "    .dataframe tbody tr th {\n",
       "        vertical-align: top;\n",
       "    }\n",
       "\n",
       "    .dataframe thead th {\n",
       "        text-align: right;\n",
       "    }\n",
       "</style>\n",
       "<table border=\"1\" class=\"dataframe\">\n",
       "  <thead>\n",
       "    <tr style=\"text-align: right;\">\n",
       "      <th></th>\n",
       "      <th>source</th>\n",
       "      <th>target</th>\n",
       "    </tr>\n",
       "  </thead>\n",
       "  <tbody>\n",
       "    <tr>\n",
       "      <th>0</th>\n",
       "      <td>214328887</td>\n",
       "      <td>34428380</td>\n",
       "    </tr>\n",
       "    <tr>\n",
       "      <th>1</th>\n",
       "      <td>17116707</td>\n",
       "      <td>28465635</td>\n",
       "    </tr>\n",
       "    <tr>\n",
       "      <th>2</th>\n",
       "      <td>380580781</td>\n",
       "      <td>18996905</td>\n",
       "    </tr>\n",
       "    <tr>\n",
       "      <th>3</th>\n",
       "      <td>221036078</td>\n",
       "      <td>153460275</td>\n",
       "    </tr>\n",
       "    <tr>\n",
       "      <th>4</th>\n",
       "      <td>107830991</td>\n",
       "      <td>17868918</td>\n",
       "    </tr>\n",
       "    <tr>\n",
       "      <th>...</th>\n",
       "      <td>...</td>\n",
       "      <td>...</td>\n",
       "    </tr>\n",
       "    <tr>\n",
       "      <th>2420761</th>\n",
       "      <td>99841247</td>\n",
       "      <td>154263215</td>\n",
       "    </tr>\n",
       "    <tr>\n",
       "      <th>2420762</th>\n",
       "      <td>99841247</td>\n",
       "      <td>194403468</td>\n",
       "    </tr>\n",
       "    <tr>\n",
       "      <th>2420763</th>\n",
       "      <td>99841247</td>\n",
       "      <td>180165101</td>\n",
       "    </tr>\n",
       "    <tr>\n",
       "      <th>2420764</th>\n",
       "      <td>99841247</td>\n",
       "      <td>253509115</td>\n",
       "    </tr>\n",
       "    <tr>\n",
       "      <th>2420765</th>\n",
       "      <td>99841247</td>\n",
       "      <td>463410501</td>\n",
       "    </tr>\n",
       "  </tbody>\n",
       "</table>\n",
       "<p>2420766 rows × 2 columns</p>\n",
       "</div>"
      ],
      "text/plain": [
       "            source     target\n",
       "0        214328887   34428380\n",
       "1         17116707   28465635\n",
       "2        380580781   18996905\n",
       "3        221036078  153460275\n",
       "4        107830991   17868918\n",
       "...            ...        ...\n",
       "2420761   99841247  154263215\n",
       "2420762   99841247  194403468\n",
       "2420763   99841247  180165101\n",
       "2420764   99841247  253509115\n",
       "2420765   99841247  463410501\n",
       "\n",
       "[2420766 rows x 2 columns]"
      ]
     },
     "execution_count": 4,
     "metadata": {},
     "output_type": "execute_result"
    }
   ],
   "source": [
    "df"
   ]
  },
  {
   "cell_type": "code",
   "execution_count": 5,
   "metadata": {},
   "outputs": [],
   "source": [
    "df['source'] = df['source'].astype(int)\n",
    "df['target'] = df['target'].astype(int)"
   ]
  },
  {
   "cell_type": "code",
   "execution_count": 6,
   "metadata": {},
   "outputs": [
    {
     "data": {
      "text/plain": [
       "source    12\n",
       "target    12\n",
       "dtype: int64"
      ]
     },
     "execution_count": 6,
     "metadata": {},
     "output_type": "execute_result"
    }
   ],
   "source": [
    "df.min()"
   ]
  },
  {
   "cell_type": "code",
   "execution_count": 7,
   "metadata": {},
   "outputs": [
    {
     "data": {
      "text/plain": [
       "source    568770231\n",
       "target    568770231\n",
       "dtype: int64"
      ]
     },
     "execution_count": 7,
     "metadata": {},
     "output_type": "execute_result"
    }
   ],
   "source": [
    "df.max()"
   ]
  },
  {
   "cell_type": "code",
   "execution_count": 8,
   "metadata": {},
   "outputs": [
    {
     "name": "stdout",
     "output_type": "stream",
     "text": [
      "Number of vertices in the graph: 568770232\n",
      "Number of edges in the graph 2420766\n",
      "Is the graph directed: True\n",
      "Maximum degree in the graph: 10336\n"
     ]
    }
   ],
   "source": [
    "ego_twitter_network=Graph(directed=True)\n",
    "ego_twitter_network.add_vertices(568770232)\n",
    "ego_twitter_network.add_edges(zip(df[\"source\"], df[\"target\"]))\n",
    "print(\"Number of vertices in the graph:\",ego_twitter_network.vcount())\n",
    "print(\"Number of edges in the graph\",ego_twitter_network.ecount())\n",
    "print(\"Is the graph directed:\", ego_twitter_network.is_directed())\n",
    "print(\"Maximum degree in the graph:\", ego_twitter_network.maxdegree())"
   ]
  },
  {
   "cell_type": "code",
   "execution_count": 9,
   "metadata": {},
   "outputs": [
    {
     "data": {
      "text/plain": [
       "'IGRAPH D--- 568770232 2420766 -- '"
      ]
     },
     "execution_count": 9,
     "metadata": {},
     "output_type": "execute_result"
    }
   ],
   "source": [
    "ego_twitter_network.summary()"
   ]
  },
  {
   "cell_type": "code",
   "execution_count": 10,
   "metadata": {},
   "outputs": [
    {
     "name": "stderr",
     "output_type": "stream",
     "text": [
      "  0%|          | 0/6 [00:00<?, ?it/s]"
     ]
    },
    {
     "ename": "KeyboardInterrupt",
     "evalue": "",
     "output_type": "error",
     "traceback": [
      "\u001b[0;31m---------------------------------------------------------------------------\u001b[0m",
      "\u001b[0;31mKeyboardInterrupt\u001b[0m                         Traceback (most recent call last)",
      "\u001b[0;32m<ipython-input-10-0ad9cc30f522>\u001b[0m in \u001b[0;36m<module>\u001b[0;34m\u001b[0m\n\u001b[1;32m     26\u001b[0m     \u001b[0mgeneration_count\u001b[0m\u001b[0;34m=\u001b[0m\u001b[0;36m20\u001b[0m\u001b[0;34m\u001b[0m\u001b[0;34m\u001b[0m\u001b[0m\n\u001b[1;32m     27\u001b[0m     \u001b[0mpopulation_size\u001b[0m\u001b[0;34m=\u001b[0m\u001b[0;36m100\u001b[0m\u001b[0;34m\u001b[0m\u001b[0;34m\u001b[0m\u001b[0m\n\u001b[0;32m---> 28\u001b[0;31m     \u001b[0mgenetic_algorithm_solution\u001b[0m\u001b[0;34m,\u001b[0m\u001b[0mgenetic_algorithm_spreads\u001b[0m\u001b[0;34m,\u001b[0m\u001b[0mgenetic_algorithm_elapsed\u001b[0m\u001b[0;34m=\u001b[0m\u001b[0mgenetic_algorithm\u001b[0m\u001b[0;34m.\u001b[0m\u001b[0malgo\u001b[0m\u001b[0;34m(\u001b[0m\u001b[0mgraph\u001b[0m\u001b[0;34m,\u001b[0m\u001b[0mgeneration_count\u001b[0m\u001b[0;34m,\u001b[0m\u001b[0mpopulation_size\u001b[0m\u001b[0;34m,\u001b[0m\u001b[0mk\u001b[0m\u001b[0;34m)\u001b[0m\u001b[0;34m\u001b[0m\u001b[0;34m\u001b[0m\u001b[0m\n\u001b[0m\u001b[1;32m     29\u001b[0m \u001b[0;34m\u001b[0m\u001b[0m\n\u001b[1;32m     30\u001b[0m     \u001b[0martificial_bee_colony_optimization_solution\u001b[0m\u001b[0;34m,\u001b[0m\u001b[0martificial_bee_colony_optimization_spreads\u001b[0m\u001b[0;34m,\u001b[0m\u001b[0martificial_bee_colony_optimization_elapsed\u001b[0m\u001b[0;34m=\u001b[0m\u001b[0martificial_bee_colony_optimization\u001b[0m\u001b[0;34m.\u001b[0m\u001b[0malgo\u001b[0m\u001b[0;34m(\u001b[0m\u001b[0mgraph\u001b[0m\u001b[0;34m,\u001b[0m\u001b[0mk\u001b[0m\u001b[0;34m,\u001b[0m\u001b[0mprob\u001b[0m\u001b[0;34m,\u001b[0m\u001b[0mn_iters\u001b[0m\u001b[0;34m)\u001b[0m\u001b[0;34m\u001b[0m\u001b[0;34m\u001b[0m\u001b[0m\n",
      "\u001b[0;32m~/tmp/influence maximization in socila network/genetic_algorithm.py\u001b[0m in \u001b[0;36malgo\u001b[0;34m(graph, generation_count, population_size, k)\u001b[0m\n\u001b[1;32m    118\u001b[0m     \u001b[0mprob\u001b[0m\u001b[0;34m,\u001b[0m \u001b[0mn_iters\u001b[0m\u001b[0;34m=\u001b[0m\u001b[0;36m0.1\u001b[0m\u001b[0;34m,\u001b[0m\u001b[0;36m10\u001b[0m\u001b[0;34m\u001b[0m\u001b[0;34m\u001b[0m\u001b[0m\n\u001b[1;32m    119\u001b[0m     \u001b[0mmutation_prob\u001b[0m\u001b[0;34m=\u001b[0m\u001b[0;36m0.1\u001b[0m\u001b[0;34m\u001b[0m\u001b[0;34m\u001b[0m\u001b[0m\n\u001b[0;32m--> 120\u001b[0;31m     \u001b[0mpopulation\u001b[0m\u001b[0;34m=\u001b[0m\u001b[0mgenerate_initial_population\u001b[0m\u001b[0;34m(\u001b[0m\u001b[0mgraph\u001b[0m\u001b[0;34m,\u001b[0m\u001b[0mpopulation_size\u001b[0m\u001b[0;34m,\u001b[0m\u001b[0mk\u001b[0m\u001b[0;34m)\u001b[0m\u001b[0;34m\u001b[0m\u001b[0;34m\u001b[0m\u001b[0m\n\u001b[0m\u001b[1;32m    121\u001b[0m     \u001b[0;32mfor\u001b[0m \u001b[0mi\u001b[0m \u001b[0;32min\u001b[0m \u001b[0mrange\u001b[0m\u001b[0;34m(\u001b[0m\u001b[0mlen\u001b[0m\u001b[0;34m(\u001b[0m\u001b[0mpopulation\u001b[0m\u001b[0;34m)\u001b[0m\u001b[0;34m)\u001b[0m\u001b[0;34m:\u001b[0m\u001b[0;34m\u001b[0m\u001b[0;34m\u001b[0m\u001b[0m\n\u001b[1;32m    122\u001b[0m         \u001b[0mpopulation\u001b[0m\u001b[0;34m[\u001b[0m\u001b[0mi\u001b[0m\u001b[0;34m]\u001b[0m\u001b[0;34m.\u001b[0m\u001b[0mfitness\u001b[0m\u001b[0;34m=\u001b[0m\u001b[0mcompute_fitness\u001b[0m\u001b[0;34m(\u001b[0m\u001b[0mgraph\u001b[0m\u001b[0;34m,\u001b[0m \u001b[0mpopulation\u001b[0m\u001b[0;34m[\u001b[0m\u001b[0mi\u001b[0m\u001b[0;34m]\u001b[0m\u001b[0;34m.\u001b[0m\u001b[0mencoding\u001b[0m\u001b[0;34m,\u001b[0m \u001b[0mprob\u001b[0m\u001b[0;34m,\u001b[0m \u001b[0mn_iters\u001b[0m\u001b[0;34m)\u001b[0m\u001b[0;34m\u001b[0m\u001b[0;34m\u001b[0m\u001b[0m\n",
      "\u001b[0;32m~/tmp/influence maximization in socila network/genetic_algorithm.py\u001b[0m in \u001b[0;36mgenerate_initial_population\u001b[0;34m(graph, population_size, k)\u001b[0m\n\u001b[1;32m     37\u001b[0m     \u001b[0;32mfor\u001b[0m \u001b[0mi\u001b[0m \u001b[0;32min\u001b[0m \u001b[0mrange\u001b[0m\u001b[0;34m(\u001b[0m\u001b[0mpopulation_size\u001b[0m\u001b[0;34m)\u001b[0m\u001b[0;34m:\u001b[0m\u001b[0;34m\u001b[0m\u001b[0;34m\u001b[0m\u001b[0m\n\u001b[1;32m     38\u001b[0m         \u001b[0mx\u001b[0m\u001b[0;34m=\u001b[0m\u001b[0mchromosome\u001b[0m\u001b[0;34m(\u001b[0m\u001b[0;34m)\u001b[0m\u001b[0;34m\u001b[0m\u001b[0;34m\u001b[0m\u001b[0m\n\u001b[0;32m---> 39\u001b[0;31m         \u001b[0mx\u001b[0m\u001b[0;34m.\u001b[0m\u001b[0mencoding\u001b[0m\u001b[0;34m=\u001b[0m\u001b[0mlist\u001b[0m\u001b[0;34m(\u001b[0m\u001b[0mrandom\u001b[0m\u001b[0;34m.\u001b[0m\u001b[0msample\u001b[0m\u001b[0;34m(\u001b[0m\u001b[0mlist\u001b[0m\u001b[0;34m(\u001b[0m\u001b[0mrange\u001b[0m\u001b[0;34m(\u001b[0m\u001b[0mgraph\u001b[0m\u001b[0;34m.\u001b[0m\u001b[0mvcount\u001b[0m\u001b[0;34m(\u001b[0m\u001b[0;34m)\u001b[0m\u001b[0;34m)\u001b[0m\u001b[0;34m)\u001b[0m\u001b[0;34m,\u001b[0m \u001b[0mk\u001b[0m\u001b[0;34m)\u001b[0m\u001b[0;34m)\u001b[0m\u001b[0;34m\u001b[0m\u001b[0;34m\u001b[0m\u001b[0m\n\u001b[0m\u001b[1;32m     40\u001b[0m         \u001b[0minitial_population\u001b[0m\u001b[0;34m.\u001b[0m\u001b[0mappend\u001b[0m\u001b[0;34m(\u001b[0m\u001b[0mx\u001b[0m\u001b[0;34m)\u001b[0m\u001b[0;34m\u001b[0m\u001b[0;34m\u001b[0m\u001b[0m\n\u001b[1;32m     41\u001b[0m     \u001b[0;32mreturn\u001b[0m \u001b[0minitial_population\u001b[0m\u001b[0;34m\u001b[0m\u001b[0;34m\u001b[0m\u001b[0m\n",
      "\u001b[0;31mKeyboardInterrupt\u001b[0m: "
     ]
    }
   ],
   "source": [
    "graph=ego_twitter_network\n",
    "# brute_force_spreads1=[] \n",
    "# brute_force_elapsed1=[] \n",
    "# greedy_spreads1=[] \n",
    "# greedy_elapsed1=[] \n",
    "# celf_spreads1=[] \n",
    "# celf_elapsed1=[] \n",
    "# celfpp_spreads1=[] \n",
    "# celfpp_elapsed1=[]\n",
    "simulated_annealing_spreads1=[] \n",
    "simulated_annealing_elapsed1=[] \n",
    "genetic_algorithm_spreads1=[] \n",
    "genetic_algorithm_elapsed1=[]\n",
    "artificial_bee_colony_optimization_spreads1=[]\n",
    "artificial_bee_colony_optimization_elapsed1=[]\n",
    "lower_seed_size,higher_seed_size=50,56\n",
    "for i in tqdm(range(lower_seed_size,higher_seed_size,1)):\n",
    "    k = i\n",
    "    prob = 0.1\n",
    "    n_iters =10\n",
    "    #brute_force_solution,brute_force_spreads,brute_force_elapsed=brute_force(graph,k,prob,n_iters)\n",
    "    #greedy_solution, greedy_spreads, greedy_elapsed = greedy_algorithm.algo(graph, k, prob, n_iters)\n",
    "#     celf_solution, celf_spreads, celf_elapsed= celf.algo(graph, k, prob, n_iters)\n",
    "#     celfpp_solution, celfpp_spreads, celfpp_elapsed = celfpp.algo(graph, k, prob, n_iters)\n",
    "    simulated_annealing_solution,simulated_annealing_spreads,simulated_annealing_elapsed=simulated_annealing.algo(graph,k,prob,n_iters)\n",
    "    generation_count=20\n",
    "    population_size=100\n",
    "    genetic_algorithm_solution,genetic_algorithm_spreads,genetic_algorithm_elapsed=genetic_algorithm.algo(graph,generation_count,population_size,k)\n",
    "    \n",
    "    artificial_bee_colony_optimization_solution,artificial_bee_colony_optimization_spreads,artificial_bee_colony_optimization_elapsed=artificial_bee_colony_optimization.algo(graph,k,prob,n_iters)\n",
    "\n",
    "\n",
    "\n",
    "    #brute_force_spreads1.append(brute_force_spreads) \n",
    "    #brute_force_elapsed1.append(brute_force_elapsed) \n",
    "    \n",
    "#     greedy_spreads1.append(greedy_spreads)\n",
    "#     greedy_elapsed1.append(greedy_elapsed)\n",
    "    \n",
    "#     celf_spreads1.append(celf_spreads) \n",
    "#     celf_elapsed1.append(celf_elapsed)\n",
    "    \n",
    "#     celfpp_spreads1.append(celfpp_spreads) \n",
    "#     celfpp_elapsed1.append(celfpp_elapsed)\n",
    "    \n",
    "    simulated_annealing_spreads1.append(simulated_annealing_spreads) \n",
    "    simulated_annealing_elapsed1.append(simulated_annealing_elapsed)\n",
    "    genetic_algorithm_spreads1.append(genetic_algorithm_spreads) \n",
    "    genetic_algorithm_elapsed1.append(genetic_algorithm_elapsed)\n",
    "    artificial_bee_colony_optimization_spreads1.append(artificial_bee_colony_optimization_spreads) \n",
    "    artificial_bee_colony_optimization_elapsed1.append(artificial_bee_colony_optimization_elapsed)"
   ]
  },
  {
   "cell_type": "code",
   "execution_count": null,
   "metadata": {},
   "outputs": [],
   "source": [
    "x=list(range(lower_seed_size,higher_seed_size,1))"
   ]
  },
  {
   "cell_type": "code",
   "execution_count": null,
   "metadata": {},
   "outputs": [],
   "source": [
    "# plotting the points  \n",
    "#plt.plot(x, y1,label=\"Brute-force\") \n",
    "\n",
    "# plt.plot(x, greedy_spreads1,label=\"Greedy\")\n",
    "\n",
    "# plt.plot(x, celf_spreads1,label=\"CELF\")\n",
    "\n",
    "# plt.plot(x, celfpp_spreads1,label=\"CELF++\")\n",
    "\n",
    "plt.plot(x, simulated_annealing_spreads1,label=\"Simulated-Annealing\")\n",
    "plt.plot(x, genetic_algorithm_spreads1,label=\"Genetic-Algorithm\")\n",
    "plt.plot(x, artificial_bee_colony_optimization_spreads1,label=\"Artificial-Bee-Colony-Optimization\")\n",
    "# naming the x axis \n",
    "plt.xlabel('Size of Seed Set') \n",
    "# naming the y axis \n",
    "plt.ylabel('Expected Spread') \n",
    "  \n",
    "# giving a title to my graph \n",
    "plt.title('Spread-Graph') \n",
    "plt.legend()\n",
    "# function to show the plot \n",
    "plt.show() "
   ]
  },
  {
   "cell_type": "code",
   "execution_count": null,
   "metadata": {},
   "outputs": [],
   "source": [
    "# plotting the points \n",
    "#plt.plot(x, brute_force_elapsed1,label=\"Brute-force\") \n",
    "\n",
    "# plt.plot(x, greedy_elapsed1,label=\"Greedy\")\n",
    "\n",
    "# plt.plot(x, celf_elapsed1,label=\"CELF\")\n",
    "\n",
    "# plt.plot(x, celfpp_elapsed1,label=\"CELF++\")\n",
    "\n",
    "plt.plot(x, simulated_annealing_elapsed1,label=\"Simulated-Annealing\")\n",
    "plt.plot(x, genetic_algorithm_elapsed1,label=\"Genetic-Algorithm\")\n",
    "plt.plot(x, artificial_bee_colony_optimization_elapsed1,label=\"Artificial-Bee-Colony-Optimization\")\n",
    "# naming the x axis \n",
    "plt.xlabel('Size of Seed Set') \n",
    "# naming the y axis \n",
    "plt.ylabel('Computation Time') \n",
    "  \n",
    "# giving a title to my graph \n",
    "plt.title('Computation-Graph') \n",
    "plt.legend()\n",
    "# function to show the plot \n",
    "plt.show() "
   ]
  },
  {
   "cell_type": "code",
   "execution_count": null,
   "metadata": {},
   "outputs": [],
   "source": []
  }
 ],
 "metadata": {
  "kernelspec": {
   "display_name": "Python 3",
   "language": "python",
   "name": "python3"
  },
  "language_info": {
   "codemirror_mode": {
    "name": "ipython",
    "version": 3
   },
   "file_extension": ".py",
   "mimetype": "text/x-python",
   "name": "python",
   "nbconvert_exporter": "python",
   "pygments_lexer": "ipython3",
   "version": "3.7.6"
  }
 },
 "nbformat": 4,
 "nbformat_minor": 4
}

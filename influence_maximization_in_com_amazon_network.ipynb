{
 "cells": [
  {
   "cell_type": "code",
   "execution_count": 1,
   "metadata": {},
   "outputs": [],
   "source": [
    "import greedy_algorithm\n",
    "import celf\n",
    "import celfpp\n",
    "import simulated_annealing\n",
    "import genetic_algorithm\n",
    "import artificial_bee_colony_optimization"
   ]
  },
  {
   "cell_type": "code",
   "execution_count": 2,
   "metadata": {},
   "outputs": [],
   "source": [
    "import random\n",
    "import math\n",
    "import time\n",
    "import numpy as np\n",
    "import matplotlib.pyplot as plt\n",
    "from igraph import Graph  \n",
    "from tqdm import tqdm\n",
    "from itertools import product\n",
    "import itertools \n",
    "import pandas as pd\n",
    "import heapq\n",
    "import copy"
   ]
  },
  {
   "cell_type": "code",
   "execution_count": 3,
   "metadata": {},
   "outputs": [
    {
     "name": "stdout",
     "output_type": "stream",
     "text": [
      "                                              source    target\n",
      "0  # Undirected graph: ../../data/output/amazon.u...       NaN\n",
      "1                                           # Amazon       NaN\n",
      "2                      # Nodes: 334863 Edges: 925872       NaN\n",
      "3                                       # FromNodeId  ToNodeId\n",
      "4                                                  1     88160\n",
      "5                                                  1    118052\n",
      "6                                                  1    161555\n",
      "7                                                  1    244916\n",
      "8                                                  1    346495\n",
      "9                                                  1    444232\n"
     ]
    },
    {
     "name": "stderr",
     "output_type": "stream",
     "text": [
      "/DATA/amit_1911cs01/anaconda3/lib/python3.7/site-packages/IPython/core/interactiveshell.py:3063: DtypeWarning: Columns (0,1) have mixed types.Specify dtype option on import or set low_memory=False.\n",
      "  interactivity=interactivity, compiler=compiler, result=result)\n"
     ]
    }
   ],
   "source": [
    "df = pd.read_csv('dataset/com-amazon.ungraph.txt.gz', compression='gzip', names=[\"source\", \"target\"], sep='\\t', quotechar='\"', error_bad_lines=False)\n",
    "print(df.head(10))"
   ]
  },
  {
   "cell_type": "code",
   "execution_count": 4,
   "metadata": {},
   "outputs": [],
   "source": [
    "df=df.drop([0, 1,2,3])"
   ]
  },
  {
   "cell_type": "code",
   "execution_count": 5,
   "metadata": {},
   "outputs": [
    {
     "data": {
      "text/html": [
       "<div>\n",
       "<style scoped>\n",
       "    .dataframe tbody tr th:only-of-type {\n",
       "        vertical-align: middle;\n",
       "    }\n",
       "\n",
       "    .dataframe tbody tr th {\n",
       "        vertical-align: top;\n",
       "    }\n",
       "\n",
       "    .dataframe thead th {\n",
       "        text-align: right;\n",
       "    }\n",
       "</style>\n",
       "<table border=\"1\" class=\"dataframe\">\n",
       "  <thead>\n",
       "    <tr style=\"text-align: right;\">\n",
       "      <th></th>\n",
       "      <th>source</th>\n",
       "      <th>target</th>\n",
       "    </tr>\n",
       "  </thead>\n",
       "  <tbody>\n",
       "    <tr>\n",
       "      <th>4</th>\n",
       "      <td>1</td>\n",
       "      <td>88160</td>\n",
       "    </tr>\n",
       "    <tr>\n",
       "      <th>5</th>\n",
       "      <td>1</td>\n",
       "      <td>118052</td>\n",
       "    </tr>\n",
       "    <tr>\n",
       "      <th>6</th>\n",
       "      <td>1</td>\n",
       "      <td>161555</td>\n",
       "    </tr>\n",
       "    <tr>\n",
       "      <th>7</th>\n",
       "      <td>1</td>\n",
       "      <td>244916</td>\n",
       "    </tr>\n",
       "    <tr>\n",
       "      <th>8</th>\n",
       "      <td>1</td>\n",
       "      <td>346495</td>\n",
       "    </tr>\n",
       "    <tr>\n",
       "      <th>...</th>\n",
       "      <td>...</td>\n",
       "      <td>...</td>\n",
       "    </tr>\n",
       "    <tr>\n",
       "      <th>925871</th>\n",
       "      <td>548343</td>\n",
       "      <td>548378</td>\n",
       "    </tr>\n",
       "    <tr>\n",
       "      <th>925872</th>\n",
       "      <td>548354</td>\n",
       "      <td>548356</td>\n",
       "    </tr>\n",
       "    <tr>\n",
       "      <th>925873</th>\n",
       "      <td>548368</td>\n",
       "      <td>548454</td>\n",
       "    </tr>\n",
       "    <tr>\n",
       "      <th>925874</th>\n",
       "      <td>548391</td>\n",
       "      <td>548411</td>\n",
       "    </tr>\n",
       "    <tr>\n",
       "      <th>925875</th>\n",
       "      <td>548411</td>\n",
       "      <td>548458</td>\n",
       "    </tr>\n",
       "  </tbody>\n",
       "</table>\n",
       "<p>925872 rows × 2 columns</p>\n",
       "</div>"
      ],
      "text/plain": [
       "        source  target\n",
       "4            1   88160\n",
       "5            1  118052\n",
       "6            1  161555\n",
       "7            1  244916\n",
       "8            1  346495\n",
       "...        ...     ...\n",
       "925871  548343  548378\n",
       "925872  548354  548356\n",
       "925873  548368  548454\n",
       "925874  548391  548411\n",
       "925875  548411  548458\n",
       "\n",
       "[925872 rows x 2 columns]"
      ]
     },
     "execution_count": 5,
     "metadata": {},
     "output_type": "execute_result"
    }
   ],
   "source": [
    "df"
   ]
  },
  {
   "cell_type": "code",
   "execution_count": 6,
   "metadata": {},
   "outputs": [],
   "source": [
    "df['source'] = df['source'].astype(int)\n",
    "df['target'] = df['target'].astype(int)"
   ]
  },
  {
   "cell_type": "code",
   "execution_count": 7,
   "metadata": {},
   "outputs": [],
   "source": [
    "df=df-[1,1]"
   ]
  },
  {
   "cell_type": "code",
   "execution_count": 8,
   "metadata": {},
   "outputs": [
    {
     "data": {
      "text/plain": [
       "source      0\n",
       "target    365\n",
       "dtype: int64"
      ]
     },
     "execution_count": 8,
     "metadata": {},
     "output_type": "execute_result"
    }
   ],
   "source": [
    "df.min()"
   ]
  },
  {
   "cell_type": "code",
   "execution_count": 9,
   "metadata": {},
   "outputs": [
    {
     "data": {
      "text/plain": [
       "source    548410\n",
       "target    548550\n",
       "dtype: int64"
      ]
     },
     "execution_count": 9,
     "metadata": {},
     "output_type": "execute_result"
    }
   ],
   "source": [
    "df.max()"
   ]
  },
  {
   "cell_type": "code",
   "execution_count": 10,
   "metadata": {},
   "outputs": [
    {
     "name": "stdout",
     "output_type": "stream",
     "text": [
      "Number of vertices in the graph: 548551\n",
      "Number of edges in the graph 925872\n",
      "Is the graph directed: True\n",
      "Maximum degree in the graph: 549\n"
     ]
    }
   ],
   "source": [
    "com_amazon_network=Graph(directed=True)\n",
    "com_amazon_network.add_vertices(548551)\n",
    "com_amazon_network.add_edges(zip(df[\"source\"], df[\"target\"]))\n",
    "print(\"Number of vertices in the graph:\",com_amazon_network.vcount())\n",
    "print(\"Number of edges in the graph\",com_amazon_network.ecount())\n",
    "print(\"Is the graph directed:\", com_amazon_network.is_directed())\n",
    "print(\"Maximum degree in the graph:\", com_amazon_network.maxdegree())"
   ]
  },
  {
   "cell_type": "code",
   "execution_count": 11,
   "metadata": {},
   "outputs": [
    {
     "data": {
      "text/plain": [
       "'IGRAPH D--- 548551 925872 -- '"
      ]
     },
     "execution_count": 11,
     "metadata": {},
     "output_type": "execute_result"
    }
   ],
   "source": [
    "com_amazon_network.summary()"
   ]
  },
  {
   "cell_type": "code",
   "execution_count": 12,
   "metadata": {},
   "outputs": [
    {
     "name": "stderr",
     "output_type": "stream",
     "text": [
      "  0%|          | 0/6 [00:00<?, ?it/s]\n",
      "  0%|          | 0/20 [00:00<?, ?it/s]\u001b[A\n",
      "  5%|▌         | 1/20 [00:03<01:03,  3.34s/it]\u001b[A\n",
      " 10%|█         | 2/20 [00:06<00:59,  3.32s/it]\u001b[A\n",
      " 15%|█▌        | 3/20 [00:09<00:55,  3.29s/it]\u001b[A\n",
      " 20%|██        | 4/20 [00:13<00:52,  3.29s/it]\u001b[A\n",
      " 25%|██▌       | 5/20 [00:16<00:50,  3.37s/it]\u001b[A\n",
      " 30%|███       | 6/20 [00:20<00:47,  3.41s/it]\u001b[A\n",
      " 35%|███▌      | 7/20 [00:23<00:44,  3.44s/it]\u001b[A\n",
      " 40%|████      | 8/20 [00:27<00:41,  3.46s/it]\u001b[A\n",
      " 45%|████▌     | 9/20 [00:30<00:37,  3.44s/it]\u001b[A\n",
      " 50%|█████     | 10/20 [00:33<00:34,  3.41s/it]\u001b[A\n",
      " 55%|█████▌    | 11/20 [00:37<00:30,  3.40s/it]\u001b[A\n",
      " 60%|██████    | 12/20 [00:40<00:27,  3.40s/it]\u001b[A\n",
      " 65%|██████▌   | 13/20 [00:44<00:24,  3.45s/it]\u001b[A\n",
      " 70%|███████   | 14/20 [00:47<00:21,  3.52s/it]\u001b[A\n",
      " 75%|███████▌  | 15/20 [00:51<00:17,  3.50s/it]\u001b[A\n",
      " 80%|████████  | 16/20 [00:54<00:13,  3.49s/it]\u001b[A\n",
      " 85%|████████▌ | 17/20 [00:58<00:10,  3.49s/it]\u001b[A\n",
      " 90%|█████████ | 18/20 [01:01<00:06,  3.48s/it]\u001b[A\n",
      " 95%|█████████▌| 19/20 [01:05<00:03,  3.49s/it]\u001b[A\n",
      "100%|██████████| 20/20 [01:08<00:00,  3.44s/it]\u001b[A\n",
      " 17%|█▋        | 1/6 [01:15<06:18, 75.68s/it]\n",
      "  0%|          | 0/20 [00:00<?, ?it/s]\u001b[A\n",
      "  5%|▌         | 1/20 [00:03<01:07,  3.54s/it]\u001b[A\n",
      " 10%|█         | 2/20 [00:07<01:03,  3.55s/it]\u001b[A\n",
      " 15%|█▌        | 3/20 [00:10<00:59,  3.51s/it]\u001b[A\n",
      " 20%|██        | 4/20 [00:13<00:55,  3.48s/it]\u001b[A\n",
      " 25%|██▌       | 5/20 [00:17<00:52,  3.51s/it]\u001b[A\n",
      " 30%|███       | 6/20 [00:20<00:48,  3.49s/it]\u001b[A\n",
      " 35%|███▌      | 7/20 [00:24<00:45,  3.51s/it]\u001b[A\n",
      " 40%|████      | 8/20 [00:28<00:42,  3.56s/it]\u001b[A\n",
      " 45%|████▌     | 9/20 [00:31<00:39,  3.55s/it]\u001b[A\n",
      " 50%|█████     | 10/20 [00:35<00:35,  3.52s/it]\u001b[A\n",
      " 55%|█████▌    | 11/20 [00:38<00:31,  3.50s/it]\u001b[A\n",
      " 60%|██████    | 12/20 [00:42<00:27,  3.49s/it]\u001b[A\n",
      " 65%|██████▌   | 13/20 [00:45<00:24,  3.49s/it]\u001b[A\n",
      " 70%|███████   | 14/20 [00:49<00:20,  3.49s/it]\u001b[A\n",
      " 75%|███████▌  | 15/20 [00:52<00:17,  3.49s/it]\u001b[A\n",
      " 80%|████████  | 16/20 [00:56<00:13,  3.49s/it]\u001b[A\n",
      " 85%|████████▌ | 17/20 [00:59<00:10,  3.49s/it]\u001b[A\n",
      " 90%|█████████ | 18/20 [01:03<00:07,  3.51s/it]\u001b[A\n",
      " 95%|█████████▌| 19/20 [01:06<00:03,  3.51s/it]\u001b[A\n",
      "100%|██████████| 20/20 [01:10<00:00,  3.51s/it]\u001b[A\n",
      " 33%|███▎      | 2/6 [02:33<05:04, 76.21s/it]\n",
      "  0%|          | 0/20 [00:00<?, ?it/s]\u001b[A\n",
      "  5%|▌         | 1/20 [00:03<01:08,  3.59s/it]\u001b[A\n",
      " 10%|█         | 2/20 [00:07<01:04,  3.56s/it]\u001b[A\n",
      " 15%|█▌        | 3/20 [00:10<01:00,  3.57s/it]\u001b[A\n",
      " 20%|██        | 4/20 [00:14<00:57,  3.62s/it]\u001b[A\n",
      " 25%|██▌       | 5/20 [00:17<00:54,  3.60s/it]\u001b[A\n",
      " 30%|███       | 6/20 [00:21<00:50,  3.62s/it]\u001b[A\n",
      " 35%|███▌      | 7/20 [00:25<00:46,  3.59s/it]\u001b[A\n",
      " 40%|████      | 8/20 [00:28<00:42,  3.57s/it]\u001b[A\n",
      " 45%|████▌     | 9/20 [00:32<00:39,  3.57s/it]\u001b[A\n",
      " 50%|█████     | 10/20 [00:35<00:35,  3.60s/it]\u001b[A\n",
      " 55%|█████▌    | 11/20 [00:39<00:32,  3.58s/it]\u001b[A\n",
      " 60%|██████    | 12/20 [00:43<00:28,  3.59s/it]\u001b[A\n",
      " 65%|██████▌   | 13/20 [00:46<00:25,  3.58s/it]\u001b[A\n",
      " 70%|███████   | 14/20 [00:50<00:21,  3.58s/it]\u001b[A\n",
      " 75%|███████▌  | 15/20 [00:53<00:17,  3.59s/it]\u001b[A\n",
      " 80%|████████  | 16/20 [00:57<00:14,  3.58s/it]\u001b[A\n",
      " 85%|████████▌ | 17/20 [01:00<00:10,  3.58s/it]\u001b[A\n",
      " 90%|█████████ | 18/20 [01:04<00:07,  3.57s/it]\u001b[A\n",
      " 95%|█████████▌| 19/20 [01:08<00:03,  3.57s/it]\u001b[A\n",
      "100%|██████████| 20/20 [01:11<00:00,  3.58s/it]\u001b[A\n",
      " 50%|█████     | 3/6 [03:52<03:51, 77.09s/it]\n",
      "  0%|          | 0/20 [00:00<?, ?it/s]\u001b[A\n",
      "  5%|▌         | 1/20 [00:03<01:06,  3.50s/it]\u001b[A\n",
      " 10%|█         | 2/20 [00:07<01:03,  3.52s/it]\u001b[A\n",
      " 15%|█▌        | 3/20 [00:10<00:59,  3.53s/it]\u001b[A\n",
      " 20%|██        | 4/20 [00:14<00:56,  3.54s/it]\u001b[A\n",
      " 25%|██▌       | 5/20 [00:17<00:53,  3.56s/it]\u001b[A\n",
      " 30%|███       | 6/20 [00:21<00:49,  3.56s/it]\u001b[A\n",
      " 35%|███▌      | 7/20 [00:25<00:46,  3.60s/it]\u001b[A\n",
      " 40%|████      | 8/20 [00:28<00:43,  3.60s/it]\u001b[A\n",
      " 45%|████▌     | 9/20 [00:32<00:39,  3.62s/it]\u001b[A\n",
      " 50%|█████     | 10/20 [00:36<00:36,  3.66s/it]\u001b[A\n",
      " 55%|█████▌    | 11/20 [00:39<00:32,  3.67s/it]\u001b[A\n",
      " 60%|██████    | 12/20 [00:43<00:29,  3.63s/it]\u001b[A\n",
      " 65%|██████▌   | 13/20 [00:46<00:25,  3.63s/it]\u001b[A\n",
      " 70%|███████   | 14/20 [00:50<00:21,  3.62s/it]\u001b[A\n",
      " 75%|███████▌  | 15/20 [00:54<00:18,  3.60s/it]\u001b[A\n",
      " 80%|████████  | 16/20 [00:57<00:14,  3.61s/it]\u001b[A\n",
      " 85%|████████▌ | 17/20 [01:01<00:10,  3.60s/it]\u001b[A\n",
      " 90%|█████████ | 18/20 [01:04<00:07,  3.62s/it]\u001b[A\n",
      " 95%|█████████▌| 19/20 [01:08<00:03,  3.63s/it]\u001b[A\n",
      "100%|██████████| 20/20 [01:12<00:00,  3.62s/it]\u001b[A\n",
      " 67%|██████▋   | 4/6 [05:12<02:35, 77.93s/it]\n",
      "  0%|          | 0/20 [00:00<?, ?it/s]\u001b[A\n",
      "  5%|▌         | 1/20 [00:03<01:07,  3.57s/it]\u001b[A\n",
      " 10%|█         | 2/20 [00:07<01:04,  3.61s/it]\u001b[A\n",
      " 15%|█▌        | 3/20 [00:10<01:01,  3.61s/it]\u001b[A\n",
      " 20%|██        | 4/20 [00:14<00:58,  3.68s/it]\u001b[A\n",
      " 25%|██▌       | 5/20 [00:18<00:54,  3.67s/it]\u001b[A\n",
      " 30%|███       | 6/20 [00:21<00:51,  3.66s/it]\u001b[A\n",
      " 35%|███▌      | 7/20 [00:25<00:48,  3.72s/it]\u001b[A\n",
      " 40%|████      | 8/20 [00:29<00:44,  3.70s/it]\u001b[A\n",
      " 45%|████▌     | 9/20 [00:33<00:40,  3.67s/it]\u001b[A\n",
      " 50%|█████     | 10/20 [00:36<00:36,  3.65s/it]\u001b[A\n",
      " 55%|█████▌    | 11/20 [00:40<00:32,  3.64s/it]\u001b[A\n",
      " 60%|██████    | 12/20 [00:43<00:29,  3.65s/it]\u001b[A\n",
      " 65%|██████▌   | 13/20 [00:47<00:25,  3.64s/it]\u001b[A\n",
      " 70%|███████   | 14/20 [00:51<00:21,  3.64s/it]\u001b[A\n",
      " 75%|███████▌  | 15/20 [00:54<00:18,  3.63s/it]\u001b[A\n",
      " 80%|████████  | 16/20 [00:58<00:14,  3.63s/it]\u001b[A\n",
      " 85%|████████▌ | 17/20 [01:02<00:10,  3.63s/it]\u001b[A\n",
      " 90%|█████████ | 18/20 [01:05<00:07,  3.64s/it]\u001b[A\n",
      " 95%|█████████▌| 19/20 [01:09<00:03,  3.64s/it]\u001b[A\n",
      "100%|██████████| 20/20 [01:13<00:00,  3.65s/it]\u001b[A\n",
      " 83%|████████▎ | 5/6 [06:32<01:18, 78.74s/it]\n",
      "  0%|          | 0/20 [00:00<?, ?it/s]\u001b[A\n",
      "  5%|▌         | 1/20 [00:03<01:08,  3.58s/it]\u001b[A\n",
      " 10%|█         | 2/20 [00:07<01:04,  3.59s/it]\u001b[A\n",
      " 15%|█▌        | 3/20 [00:10<01:01,  3.60s/it]\u001b[A\n",
      " 20%|██        | 4/20 [00:14<00:57,  3.61s/it]\u001b[A\n",
      " 25%|██▌       | 5/20 [00:18<00:54,  3.61s/it]\u001b[A\n",
      " 30%|███       | 6/20 [00:21<00:50,  3.62s/it]\u001b[A\n",
      " 35%|███▌      | 7/20 [00:25<00:47,  3.62s/it]\u001b[A\n",
      " 40%|████      | 8/20 [00:28<00:43,  3.63s/it]\u001b[A\n",
      " 45%|████▌     | 9/20 [00:32<00:40,  3.64s/it]\u001b[A\n",
      " 50%|█████     | 10/20 [00:36<00:36,  3.65s/it]\u001b[A\n",
      " 55%|█████▌    | 11/20 [00:40<00:33,  3.69s/it]\u001b[A\n",
      " 60%|██████    | 12/20 [00:44<00:30,  3.80s/it]\u001b[A\n",
      " 65%|██████▌   | 13/20 [00:47<00:26,  3.80s/it]\u001b[A\n",
      " 70%|███████   | 14/20 [00:51<00:22,  3.81s/it]\u001b[A\n",
      " 75%|███████▌  | 15/20 [00:55<00:18,  3.77s/it]\u001b[A\n",
      " 80%|████████  | 16/20 [00:59<00:15,  3.75s/it]\u001b[A\n",
      " 85%|████████▌ | 17/20 [01:02<00:11,  3.74s/it]\u001b[A\n",
      " 90%|█████████ | 18/20 [01:06<00:07,  3.73s/it]\u001b[A\n",
      " 95%|█████████▌| 19/20 [01:10<00:03,  3.71s/it]\u001b[A\n",
      "100%|██████████| 20/20 [01:13<00:00,  3.70s/it]\u001b[A\n",
      "100%|██████████| 6/6 [07:54<00:00, 79.08s/it]\n"
     ]
    }
   ],
   "source": [
    "graph=com_amazon_network\n",
    "# brute_force_spreads1=[] \n",
    "# brute_force_elapsed1=[] \n",
    "# greedy_spreads1=[] \n",
    "# greedy_elapsed1=[] \n",
    "# celf_spreads1=[] \n",
    "# celf_elapsed1=[] \n",
    "# celfpp_spreads1=[] \n",
    "# celfpp_elapsed1=[]\n",
    "simulated_annealing_spreads1=[] \n",
    "simulated_annealing_elapsed1=[] \n",
    "genetic_algorithm_spreads1=[] \n",
    "genetic_algorithm_elapsed1=[]\n",
    "artificial_bee_colony_optimization_spreads1=[]\n",
    "artificial_bee_colony_optimization_elapsed1=[]\n",
    "lower_seed_size,higher_seed_size=50,56\n",
    "for i in tqdm(range(lower_seed_size,higher_seed_size,1)):\n",
    "    k = i\n",
    "    prob = 0.1\n",
    "    n_iters =10\n",
    "    #brute_force_solution,brute_force_spreads,brute_force_elapsed=brute_force(graph,k,prob,n_iters)\n",
    "    #greedy_solution, greedy_spreads, greedy_elapsed = greedy_algorithm.algo(graph, k, prob, n_iters)\n",
    "#     celf_solution, celf_spreads, celf_elapsed= celf.algo(graph, k, prob, n_iters)\n",
    "#     celfpp_solution, celfpp_spreads, celfpp_elapsed = celfpp.algo(graph, k, prob, n_iters)\n",
    "    simulated_annealing_solution,simulated_annealing_spreads,simulated_annealing_elapsed=simulated_annealing.algo(graph,k,prob,n_iters)\n",
    "    generation_count=20\n",
    "    population_size=100\n",
    "    genetic_algorithm_solution,genetic_algorithm_spreads,genetic_algorithm_elapsed=genetic_algorithm.algo(graph,generation_count,population_size,k)\n",
    "    \n",
    "    artificial_bee_colony_optimization_solution,artificial_bee_colony_optimization_spreads,artificial_bee_colony_optimization_elapsed=artificial_bee_colony_optimization.algo(graph,k,prob,n_iters)\n",
    "\n",
    "\n",
    "\n",
    "    #brute_force_spreads1.append(brute_force_spreads) \n",
    "    #brute_force_elapsed1.append(brute_force_elapsed) \n",
    "    \n",
    "#     greedy_spreads1.append(greedy_spreads)\n",
    "#     greedy_elapsed1.append(greedy_elapsed)\n",
    "    \n",
    "#     celf_spreads1.append(celf_spreads) \n",
    "#     celf_elapsed1.append(celf_elapsed)\n",
    "    \n",
    "#     celfpp_spreads1.append(celfpp_spreads) \n",
    "#     celfpp_elapsed1.append(celfpp_elapsed)\n",
    "    \n",
    "    simulated_annealing_spreads1.append(simulated_annealing_spreads) \n",
    "    simulated_annealing_elapsed1.append(simulated_annealing_elapsed)\n",
    "    genetic_algorithm_spreads1.append(genetic_algorithm_spreads) \n",
    "    genetic_algorithm_elapsed1.append(genetic_algorithm_elapsed)\n",
    "    artificial_bee_colony_optimization_spreads1.append(artificial_bee_colony_optimization_spreads) \n",
    "    artificial_bee_colony_optimization_elapsed1.append(artificial_bee_colony_optimization_elapsed)"
   ]
  },
  {
   "cell_type": "code",
   "execution_count": 13,
   "metadata": {},
   "outputs": [],
   "source": [
    "x=list(range(lower_seed_size,higher_seed_size,1))"
   ]
  },
  {
   "cell_type": "code",
   "execution_count": 14,
   "metadata": {},
   "outputs": [
    {
     "data": {
      "image/png": "[encoded data removed]",
      "text/plain": [
       "<Figure size 432x288 with 1 Axes>"
      ]
     },
     "metadata": {
      "needs_background": "light"
     },
     "output_type": "display_data"
    }
   ],
   "source": [
    "# plotting the points  \n",
    "#plt.plot(x, y1,label=\"Brute-force\") \n",
    "\n",
    "# plt.plot(x, greedy_spreads1,label=\"Greedy\")\n",
    "\n",
    "# plt.plot(x, celf_spreads1,label=\"CELF\")\n",
    "\n",
    "# plt.plot(x, celfpp_spreads1,label=\"CELF++\")\n",
    "\n",
    "plt.plot(x, simulated_annealing_spreads1,label=\"Simulated-Annealing\")\n",
    "plt.plot(x, genetic_algorithm_spreads1,label=\"Genetic-Algorithm\")\n",
    "plt.plot(x, artificial_bee_colony_optimization_spreads1,label=\"Artificial-Bee-Colony-Optimization\")\n",
    "# naming the x axis \n",
    "plt.xlabel('Size of Seed Set') \n",
    "# naming the y axis \n",
    "plt.ylabel('Expected Spread') \n",
    "  \n",
    "# giving a title to my graph \n",
    "plt.title('Spread-Graph') \n",
    "plt.legend()\n",
    "# function to show the plot \n",
    "plt.show() "
   ]
  },
  {
   "cell_type": "code",
   "execution_count": 15,
   "metadata": {},
   "outputs": [
    {
     "data": {
      "image/png": "[encoded data removed]",
      "text/plain": [
       "<Figure size 432x288 with 1 Axes>"
      ]
     },
     "metadata": {
      "needs_background": "light"
     },
     "output_type": "display_data"
    }
   ],
   "source": [
    "# plotting the points \n",
    "#plt.plot(x, brute_force_elapsed1,label=\"Brute-force\") \n",
    "\n",
    "# plt.plot(x, greedy_elapsed1,label=\"Greedy\")\n",
    "\n",
    "# plt.plot(x, celf_elapsed1,label=\"CELF\")\n",
    "\n",
    "# plt.plot(x, celfpp_elapsed1,label=\"CELF++\")\n",
    "\n",
    "plt.plot(x, simulated_annealing_elapsed1,label=\"Simulated-Annealing\")\n",
    "plt.plot(x, genetic_algorithm_elapsed1,label=\"Genetic-Algorithm\")\n",
    "plt.plot(x, artificial_bee_colony_optimization_elapsed1,label=\"Artificial-Bee-Colony-Optimization\")\n",
    "# naming the x axis \n",
    "plt.xlabel('Size of Seed Set') \n",
    "# naming the y axis \n",
    "plt.ylabel('Computation Time') \n",
    "  \n",
    "# giving a title to my graph \n",
    "plt.title('Computation-Graph') \n",
    "plt.legend()\n",
    "# function to show the plot \n",
    "plt.show() "
   ]
  },
  {
   "cell_type": "code",
   "execution_count": null,
   "metadata": {},
   "outputs": [],
   "source": []
  }
 ],
 "metadata": {
  "kernelspec": {
   "display_name": "Python 3",
   "language": "python",
   "name": "python3"
  },
  "language_info": {
   "codemirror_mode": {
    "name": "ipython",
    "version": 3
   },
   "file_extension": ".py",
   "mimetype": "text/x-python",
   "name": "python",
   "nbconvert_exporter": "python",
   "pygments_lexer": "ipython3",
   "version": "3.7.6"
  }
 },
 "nbformat": 4,
 "nbformat_minor": 4
}

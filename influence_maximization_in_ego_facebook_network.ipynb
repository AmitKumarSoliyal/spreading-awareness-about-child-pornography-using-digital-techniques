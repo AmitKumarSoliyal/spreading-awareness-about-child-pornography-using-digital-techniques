{
 "cells": [
  {
   "cell_type": "code",
   "execution_count": 1,
   "metadata": {},
   "outputs": [],
   "source": [
    "import greedy_algorithm\n",
    "import celf\n",
    "import celfpp\n",
    "import simulated_annealing\n",
    "import genetic_algorithm\n",
    "import artificial_bee_colony_optimization"
   ]
  },
  {
   "cell_type": "code",
   "execution_count": 2,
   "metadata": {},
   "outputs": [],
   "source": [
    "import random\n",
    "import math\n",
    "import time\n",
    "import numpy as np\n",
    "import matplotlib.pyplot as plt\n",
    "from igraph import Graph  \n",
    "from tqdm import tqdm\n",
    "from itertools import product\n",
    "import itertools \n",
    "import pandas as pd\n",
    "import heapq\n",
    "import copy"
   ]
  },
  {
   "cell_type": "code",
   "execution_count": 3,
   "metadata": {},
   "outputs": [
    {
     "name": "stdout",
     "output_type": "stream",
     "text": [
      "   source  target\n",
      "0       0       1\n",
      "1       0       2\n",
      "2       0       3\n",
      "3       0       4\n",
      "4       0       5\n"
     ]
    }
   ],
   "source": [
    "df = pd.read_csv('dataset/facebook_combined.txt.gz', compression='gzip', names=[\"source\", \"target\"], sep=' ', quotechar='\"', error_bad_lines=False)\n",
    "print(df.head())"
   ]
  },
  {
   "cell_type": "code",
   "execution_count": 4,
   "metadata": {},
   "outputs": [
    {
     "name": "stdout",
     "output_type": "stream",
     "text": [
      "Number of vertices in the graph: 4039\n",
      "Number of edges in the graph 88234\n",
      "Is the graph directed: True\n",
      "Maximum degree in the graph: 1045\n"
     ]
    }
   ],
   "source": [
    "ego_facebook_network=Graph(directed=True)\n",
    "ego_facebook_network.add_vertices(4039)\n",
    "ego_facebook_network.add_edges(zip(df[\"source\"], df[\"target\"]))\n",
    "print(\"Number of vertices in the graph:\", ego_facebook_network.vcount())\n",
    "print(\"Number of edges in the graph\",ego_facebook_network.ecount())\n",
    "print(\"Is the graph directed:\", ego_facebook_network.is_directed())\n",
    "print(\"Maximum degree in the graph:\", ego_facebook_network.maxdegree())"
   ]
  },
  {
   "cell_type": "code",
   "execution_count": 5,
   "metadata": {},
   "outputs": [
    {
     "data": {
      "text/plain": [
       "'IGRAPH D--- 4039 88234 -- '"
      ]
     },
     "execution_count": 5,
     "metadata": {},
     "output_type": "execute_result"
    }
   ],
   "source": [
    "ego_facebook_network.summary()"
   ]
  },
  {
   "cell_type": "code",
   "execution_count": 7,
   "metadata": {},
   "outputs": [
    {
     "name": "stderr",
     "output_type": "stream",
     "text": [
      "  0%|          | 0/6 [00:00<?, ?it/s]\n",
      "  0%|          | 0/20 [00:00<?, ?it/s]\u001b[A\n",
      "  5%|▌         | 1/20 [00:30<09:37, 30.42s/it]\u001b[A\n",
      " 10%|█         | 2/20 [01:01<09:13, 30.75s/it]\u001b[A\n",
      " 15%|█▌        | 3/20 [01:33<08:47, 31.04s/it]\u001b[A\n",
      " 20%|██        | 4/20 [02:09<08:40, 32.50s/it]\u001b[A\n",
      " 25%|██▌       | 5/20 [02:40<08:00, 32.02s/it]\u001b[A\n",
      " 30%|███       | 6/20 [03:12<07:26, 31.90s/it]\u001b[A\n",
      " 35%|███▌      | 7/20 [03:43<06:54, 31.88s/it]\u001b[A\n",
      " 40%|████      | 8/20 [04:17<06:28, 32.39s/it]\u001b[A\n",
      " 45%|████▌     | 9/20 [04:49<05:54, 32.24s/it]\u001b[A\n",
      " 50%|█████     | 10/20 [05:21<05:21, 32.14s/it]\u001b[A\n",
      " 55%|█████▌    | 11/20 [05:53<04:48, 32.08s/it]\u001b[A\n",
      " 60%|██████    | 12/20 [06:27<04:21, 32.67s/it]\u001b[A\n",
      " 65%|██████▌   | 13/20 [06:59<03:48, 32.58s/it]\u001b[A\n",
      " 70%|███████   | 14/20 [07:32<03:15, 32.57s/it]\u001b[A\n",
      " 75%|███████▌  | 15/20 [08:04<02:42, 32.56s/it]\u001b[A\n",
      " 80%|████████  | 16/20 [08:37<02:10, 32.54s/it]\u001b[A\n",
      " 85%|████████▌ | 17/20 [09:10<01:37, 32.62s/it]\u001b[A\n",
      " 90%|█████████ | 18/20 [09:45<01:07, 33.57s/it]\u001b[A\n",
      " 95%|█████████▌| 19/20 [10:19<00:33, 33.73s/it]\u001b[A\n",
      "100%|██████████| 20/20 [10:54<00:00, 32.74s/it]\u001b[A\n",
      " 17%|█▋        | 1/6 [11:59<59:56, 719.39s/it]\n",
      "  0%|          | 0/20 [00:00<?, ?it/s]\u001b[A\n",
      "  5%|▌         | 1/20 [00:37<11:43, 37.01s/it]\u001b[A\n",
      " 10%|█         | 2/20 [01:12<10:58, 36.60s/it]\u001b[A\n",
      " 15%|█▌        | 3/20 [01:44<09:56, 35.06s/it]\u001b[A\n",
      " 20%|██        | 4/20 [02:16<09:06, 34.13s/it]\u001b[A\n",
      " 25%|██▌       | 5/20 [02:48<08:23, 33.58s/it]\u001b[A\n",
      " 30%|███       | 6/20 [03:20<07:45, 33.28s/it]\u001b[A\n",
      " 35%|███▌      | 7/20 [03:54<07:14, 33.40s/it]\u001b[A\n",
      " 40%|████      | 8/20 [04:27<06:39, 33.25s/it]\u001b[A\n",
      " 45%|████▌     | 9/20 [05:00<06:04, 33.17s/it]\u001b[A\n",
      " 50%|█████     | 10/20 [05:33<05:30, 33.08s/it]\u001b[A\n",
      " 55%|█████▌    | 11/20 [06:06<04:58, 33.16s/it]\u001b[A\n",
      " 60%|██████    | 12/20 [06:40<04:25, 33.19s/it]\u001b[A\n",
      " 65%|██████▌   | 13/20 [07:16<03:58, 34.12s/it]\u001b[A\n",
      " 70%|███████   | 14/20 [07:49<03:23, 33.86s/it]\u001b[A\n",
      " 75%|███████▌  | 15/20 [08:22<02:47, 33.47s/it]\u001b[A\n",
      " 80%|████████  | 16/20 [08:55<02:13, 33.47s/it]\u001b[A\n",
      " 85%|████████▌ | 17/20 [09:30<01:41, 33.94s/it]\u001b[A\n",
      " 90%|█████████ | 18/20 [10:12<01:12, 36.20s/it]\u001b[A\n",
      " 95%|█████████▌| 19/20 [10:54<00:37, 37.94s/it]\u001b[A\n",
      "100%|██████████| 20/20 [11:36<00:00, 34.84s/it]\u001b[A\n",
      " 33%|███▎      | 2/6 [24:46<48:54, 733.66s/it]\n",
      "  0%|          | 0/20 [00:00<?, ?it/s]\u001b[A\n",
      "  5%|▌         | 1/20 [00:31<09:58, 31.50s/it]\u001b[A\n",
      " 10%|█         | 2/20 [01:03<09:28, 31.60s/it]\u001b[A\n",
      " 15%|█▌        | 3/20 [01:35<08:58, 31.66s/it]\u001b[A\n",
      " 20%|██        | 4/20 [02:06<08:25, 31.58s/it]\u001b[A\n",
      " 25%|██▌       | 5/20 [02:38<07:55, 31.71s/it]\u001b[A\n",
      " 30%|███       | 6/20 [03:10<07:26, 31.90s/it]\u001b[A\n",
      " 35%|███▌      | 7/20 [03:43<06:58, 32.21s/it]\u001b[A\n",
      " 40%|████      | 8/20 [04:16<06:27, 32.27s/it]\u001b[A\n",
      " 45%|████▌     | 9/20 [04:50<06:02, 32.95s/it]\u001b[A\n",
      " 50%|█████     | 10/20 [05:24<05:30, 33.05s/it]\u001b[A\n",
      " 55%|█████▌    | 11/20 [05:58<05:01, 33.50s/it]\u001b[A\n",
      " 60%|██████    | 12/20 [06:34<04:33, 34.22s/it]\u001b[A\n",
      " 65%|██████▌   | 13/20 [07:15<04:13, 36.15s/it]\u001b[A\n",
      " 70%|███████   | 14/20 [07:53<03:41, 36.92s/it]\u001b[A\n",
      " 75%|███████▌  | 15/20 [08:27<02:59, 35.93s/it]\u001b[A\n",
      " 80%|████████  | 16/20 [09:05<02:26, 36.62s/it]\u001b[A\n",
      " 85%|████████▌ | 17/20 [09:39<01:47, 35.79s/it]\u001b[A\n",
      " 90%|█████████ | 18/20 [10:13<01:10, 35.11s/it]\u001b[A\n",
      " 95%|█████████▌| 19/20 [10:47<00:34, 34.81s/it]\u001b[A\n",
      "100%|██████████| 20/20 [11:20<00:00, 34.03s/it]\u001b[A\n",
      " 50%|█████     | 3/6 [37:27<37:06, 742.00s/it]\n",
      "  0%|          | 0/20 [00:00<?, ?it/s]\u001b[A\n",
      "  5%|▌         | 1/20 [00:34<11:01, 34.83s/it]\u001b[A\n",
      " 10%|█         | 2/20 [01:12<10:44, 35.83s/it]\u001b[A\n",
      " 15%|█▌        | 3/20 [01:44<09:48, 34.59s/it]\u001b[A\n",
      " 20%|██        | 4/20 [02:17<09:02, 33.93s/it]\u001b[A\n",
      " 25%|██▌       | 5/20 [02:49<08:22, 33.51s/it]\u001b[A\n",
      " 30%|███       | 6/20 [03:22<07:47, 33.36s/it]\u001b[A\n",
      " 35%|███▌      | 7/20 [03:55<07:13, 33.34s/it]\u001b[A\n",
      " 40%|████      | 8/20 [04:28<06:37, 33.09s/it]\u001b[A\n",
      " 45%|████▌     | 9/20 [05:01<06:05, 33.23s/it]\u001b[A\n",
      " 50%|█████     | 10/20 [05:36<05:36, 33.60s/it]\u001b[A\n",
      " 55%|█████▌    | 11/20 [06:11<05:06, 34.01s/it]\u001b[A\n",
      " 60%|██████    | 12/20 [06:44<04:30, 33.86s/it]\u001b[A\n",
      " 65%|██████▌   | 13/20 [07:19<03:58, 34.02s/it]\u001b[A\n",
      " 70%|███████   | 14/20 [07:53<03:24, 34.04s/it]\u001b[A\n",
      " 75%|███████▌  | 15/20 [08:27<02:50, 34.14s/it]\u001b[A\n",
      " 80%|████████  | 16/20 [09:02<02:16, 34.21s/it]\u001b[A\n",
      " 85%|████████▌ | 17/20 [09:36<01:42, 34.21s/it]\u001b[A\n",
      " 90%|█████████ | 18/20 [10:10<01:08, 34.17s/it]\u001b[A\n",
      " 95%|█████████▌| 19/20 [10:45<00:34, 34.45s/it]\u001b[A\n",
      "100%|██████████| 20/20 [11:19<00:00, 33.99s/it]\u001b[A\n",
      " 67%|██████▋   | 4/6 [49:57<24:48, 744.17s/it]\n",
      "  0%|          | 0/20 [00:00<?, ?it/s]\u001b[A\n",
      "  5%|▌         | 1/20 [00:34<10:51, 34.31s/it]\u001b[A\n",
      " 10%|█         | 2/20 [01:06<10:08, 33.78s/it]\u001b[A\n",
      " 15%|█▌        | 3/20 [01:40<09:31, 33.61s/it]\u001b[A\n",
      " 20%|██        | 4/20 [02:13<08:55, 33.46s/it]\u001b[A\n",
      " 25%|██▌       | 5/20 [02:46<08:19, 33.28s/it]\u001b[A\n",
      " 30%|███       | 6/20 [03:25<08:11, 35.08s/it]\u001b[A\n",
      " 35%|███▌      | 7/20 [04:02<07:45, 35.83s/it]\u001b[A\n",
      " 40%|████      | 8/20 [04:36<07:03, 35.26s/it]\u001b[A\n",
      " 45%|████▌     | 9/20 [05:10<06:22, 34.82s/it]\u001b[A\n",
      " 50%|█████     | 10/20 [05:44<05:46, 34.66s/it]\u001b[A\n",
      " 55%|█████▌    | 11/20 [06:22<05:20, 35.60s/it]\u001b[A\n",
      " 60%|██████    | 12/20 [06:59<04:48, 36.00s/it]\u001b[A\n",
      " 65%|██████▌   | 13/20 [07:33<04:07, 35.37s/it]\u001b[A\n",
      " 70%|███████   | 14/20 [08:07<03:29, 34.98s/it]\u001b[A\n",
      " 75%|███████▌  | 15/20 [08:41<02:53, 34.80s/it]\u001b[A\n",
      " 80%|████████  | 16/20 [09:16<02:18, 34.71s/it]\u001b[A\n",
      " 85%|████████▌ | 17/20 [09:51<01:44, 34.70s/it]\u001b[A\n",
      " 90%|█████████ | 18/20 [10:25<01:09, 34.60s/it]\u001b[A\n",
      " 95%|█████████▌| 19/20 [11:00<00:34, 34.77s/it]\u001b[A\n",
      "100%|██████████| 20/20 [11:36<00:00, 34.82s/it]\u001b[A\n",
      " 83%|████████▎ | 5/6 [1:02:41<12:30, 750.31s/it]\n",
      "  0%|          | 0/20 [00:00<?, ?it/s]\u001b[A\n",
      "  5%|▌         | 1/20 [00:32<10:17, 32.48s/it]\u001b[A\n",
      " 10%|█         | 2/20 [01:07<09:58, 33.26s/it]\u001b[A\n",
      " 15%|█▌        | 3/20 [01:41<09:27, 33.38s/it]\u001b[A\n",
      " 20%|██        | 4/20 [02:14<08:55, 33.46s/it]\u001b[A\n",
      " 25%|██▌       | 5/20 [02:48<08:20, 33.40s/it]\u001b[A\n",
      " 30%|███       | 6/20 [03:21<07:46, 33.29s/it]\u001b[A\n",
      " 35%|███▌      | 7/20 [03:54<07:14, 33.41s/it]\u001b[A\n",
      " 40%|████      | 8/20 [04:28<06:43, 33.59s/it]\u001b[A\n",
      " 45%|████▌     | 9/20 [05:02<06:10, 33.68s/it]\u001b[A\n",
      " 50%|█████     | 10/20 [05:37<05:39, 33.93s/it]\u001b[A\n",
      " 55%|█████▌    | 11/20 [06:11<05:06, 34.10s/it]\u001b[A\n",
      " 60%|██████    | 12/20 [06:46<04:33, 34.14s/it]\u001b[A\n",
      " 65%|██████▌   | 13/20 [07:20<04:00, 34.36s/it]\u001b[A\n",
      " 70%|███████   | 14/20 [07:56<03:29, 34.88s/it]\u001b[A\n",
      " 75%|███████▌  | 15/20 [08:34<02:58, 35.72s/it]\u001b[A\n",
      " 80%|████████  | 16/20 [09:11<02:24, 36.17s/it]\u001b[A\n",
      " 85%|████████▌ | 17/20 [09:49<01:49, 36.47s/it]\u001b[A\n",
      " 90%|█████████ | 18/20 [10:25<01:12, 36.46s/it]\u001b[A\n",
      " 95%|█████████▌| 19/20 [11:01<00:36, 36.46s/it]\u001b[A\n",
      "100%|██████████| 20/20 [11:42<00:00, 35.10s/it]\u001b[A\n",
      "100%|██████████| 6/6 [1:15:40<00:00, 756.83s/it]\n"
     ]
    }
   ],
   "source": [
    "graph=ego_facebook_network\n",
    "# brute_force_spreads1=[] \n",
    "# brute_force_elapsed1=[] \n",
    "# greedy_spreads1=[] \n",
    "# greedy_elapsed1=[] \n",
    "# celf_spreads1=[] \n",
    "# celf_elapsed1=[] \n",
    "# celfpp_spreads1=[] \n",
    "# celfpp_elapsed1=[]\n",
    "simulated_annealing_spreads1=[] \n",
    "simulated_annealing_elapsed1=[] \n",
    "genetic_algorithm_spreads1=[] \n",
    "genetic_algorithm_elapsed1=[]\n",
    "artificial_bee_colony_optimization_spreads1=[]\n",
    "artificial_bee_colony_optimization_elapsed1=[]\n",
    "lower_seed_size,higher_seed_size=50,56\n",
    "for i in tqdm(range(lower_seed_size,higher_seed_size,1)):\n",
    "    k = i\n",
    "    prob = 0.1\n",
    "    n_iters =10\n",
    "    #brute_force_solution,brute_force_spreads,brute_force_elapsed=brute_force(graph,k,prob,n_iters)\n",
    "    #greedy_solution, greedy_spreads, greedy_elapsed = greedy_algorithm.algo(graph, k, prob, n_iters)\n",
    "#     celf_solution, celf_spreads, celf_elapsed= celf.algo(graph, k, prob, n_iters)\n",
    "#     celfpp_solution, celfpp_spreads, celfpp_elapsed = celfpp.algo(graph, k, prob, n_iters)\n",
    "    simulated_annealing_solution,simulated_annealing_spreads,simulated_annealing_elapsed=simulated_annealing.algo(graph,k,prob,n_iters)\n",
    "    generation_count=20\n",
    "    population_size=100\n",
    "    genetic_algorithm_solution,genetic_algorithm_spreads,genetic_algorithm_elapsed=genetic_algorithm.algo(graph,generation_count,population_size,k)\n",
    "    \n",
    "    artificial_bee_colony_optimization_solution,artificial_bee_colony_optimization_spreads,artificial_bee_colony_optimization_elapsed=artificial_bee_colony_optimization.algo(graph,k,prob,n_iters)\n",
    "\n",
    "\n",
    "\n",
    "    #brute_force_spreads1.append(brute_force_spreads) \n",
    "    #brute_force_elapsed1.append(brute_force_elapsed) \n",
    "    \n",
    "#     greedy_spreads1.append(greedy_spreads)\n",
    "#     greedy_elapsed1.append(greedy_elapsed)\n",
    "    \n",
    "#     celf_spreads1.append(celf_spreads) \n",
    "#     celf_elapsed1.append(celf_elapsed)\n",
    "    \n",
    "#     celfpp_spreads1.append(celfpp_spreads) \n",
    "#     celfpp_elapsed1.append(celfpp_elapsed)\n",
    "    \n",
    "    simulated_annealing_spreads1.append(simulated_annealing_spreads) \n",
    "    simulated_annealing_elapsed1.append(simulated_annealing_elapsed)\n",
    "    genetic_algorithm_spreads1.append(genetic_algorithm_spreads) \n",
    "    genetic_algorithm_elapsed1.append(genetic_algorithm_elapsed)\n",
    "    artificial_bee_colony_optimization_spreads1.append(artificial_bee_colony_optimization_spreads) \n",
    "    artificial_bee_colony_optimization_elapsed1.append(artificial_bee_colony_optimization_elapsed)"
   ]
  },
  {
   "cell_type": "code",
   "execution_count": 8,
   "metadata": {},
   "outputs": [],
   "source": [
    "x=list(range(lower_seed_size,higher_seed_size,1))"
   ]
  },
  {
   "cell_type": "code",
   "execution_count": 9,
   "metadata": {},
   "outputs": [
    {
     "data": {
      "image/png": "[encoded data removed]",
      "text/plain": [
       "<Figure size 432x288 with 1 Axes>"
      ]
     },
     "metadata": {
      "needs_background": "light"
     },
     "output_type": "display_data"
    }
   ],
   "source": [
    "# plotting the points  \n",
    "#plt.plot(x, y1,label=\"Brute-force\") \n",
    "\n",
    "# plt.plot(x, greedy_spreads1,label=\"Greedy\")\n",
    "\n",
    "# plt.plot(x, celf_spreads1,label=\"CELF\")\n",
    "\n",
    "# plt.plot(x, celfpp_spreads1,label=\"CELF++\")\n",
    "\n",
    "plt.plot(x, simulated_annealing_spreads1,label=\"Simulated-Annealing\")\n",
    "plt.plot(x, genetic_algorithm_spreads1,label=\"Genetic-Algorithm\")\n",
    "plt.plot(x, artificial_bee_colony_optimization_spreads1,label=\"Artificial-Bee-Colony-Optimization\")\n",
    "# naming the x axis \n",
    "plt.xlabel('Size of Seed Set') \n",
    "# naming the y axis \n",
    "plt.ylabel('Expected Spread') \n",
    "  \n",
    "# giving a title to my graph \n",
    "plt.title('Spread-Graph') \n",
    "plt.legend()\n",
    "# function to show the plot \n",
    "plt.show() "
   ]
  },
  {
   "cell_type": "code",
   "execution_count": 10,
   "metadata": {},
   "outputs": [
    {
     "data": {
      "image/png": "[encoded data removed]",
      "text/plain": [
       "<Figure size 432x288 with 1 Axes>"
      ]
     },
     "metadata": {
      "needs_background": "light"
     },
     "output_type": "display_data"
    }
   ],
   "source": [
    "# plotting the points \n",
    "#plt.plot(x, brute_force_elapsed1,label=\"Brute-force\") \n",
    "\n",
    "# plt.plot(x, greedy_elapsed1,label=\"Greedy\")\n",
    "\n",
    "# plt.plot(x, celf_elapsed1,label=\"CELF\")\n",
    "\n",
    "# plt.plot(x, celfpp_elapsed1,label=\"CELF++\")\n",
    "\n",
    "plt.plot(x, simulated_annealing_elapsed1,label=\"Simulated-Annealing\")\n",
    "plt.plot(x, genetic_algorithm_elapsed1,label=\"Genetic-Algorithm\")\n",
    "plt.plot(x, artificial_bee_colony_optimization_elapsed1,label=\"Artificial-Bee-Colony-Optimization\")\n",
    "# naming the x axis \n",
    "plt.xlabel('Size of Seed Set') \n",
    "# naming the y axis \n",
    "plt.ylabel('Computation Time') \n",
    "  \n",
    "# giving a title to my graph \n",
    "plt.title('Computation-Graph') \n",
    "plt.legend()\n",
    "# function to show the plot \n",
    "plt.show() "
   ]
  },
  {
   "cell_type": "code",
   "execution_count": null,
   "metadata": {},
   "outputs": [],
   "source": []
  }
 ],
 "metadata": {
  "kernelspec": {
   "display_name": "Python 3",
   "language": "python",
   "name": "python3"
  },
  "language_info": {
   "codemirror_mode": {
    "name": "ipython",
    "version": 3
   },
   "file_extension": ".py",
   "mimetype": "text/x-python",
   "name": "python",
   "nbconvert_exporter": "python",
   "pygments_lexer": "ipython3",
   "version": "3.7.6"
  }
 },
 "nbformat": 4,
 "nbformat_minor": 4
}

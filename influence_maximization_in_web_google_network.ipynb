{
 "cells": [
  {
   "cell_type": "code",
   "execution_count": 1,
   "metadata": {},
   "outputs": [],
   "source": [
    "import greedy_algorithm\n",
    "import celf\n",
    "import celfpp\n",
    "import simulated_annealing\n",
    "import genetic_algorithm\n",
    "import artificial_bee_colony_optimization"
   ]
  },
  {
   "cell_type": "code",
   "execution_count": 2,
   "metadata": {},
   "outputs": [],
   "source": [
    "import random\n",
    "import math\n",
    "import time\n",
    "import numpy as np\n",
    "import matplotlib.pyplot as plt\n",
    "from igraph import Graph  \n",
    "from tqdm import tqdm\n",
    "from itertools import product\n",
    "import itertools \n",
    "import pandas as pd\n",
    "import heapq\n",
    "import copy"
   ]
  },
  {
   "cell_type": "code",
   "execution_count": 3,
   "metadata": {},
   "outputs": [
    {
     "name": "stdout",
     "output_type": "stream",
     "text": [
      "                                              source    target\n",
      "0  # Directed graph (each unordered pair of nodes...       NaN\n",
      "1  # Webgraph from the Google programming contest...       NaN\n",
      "2                     # Nodes: 875713 Edges: 5105039       NaN\n",
      "3                                       # FromNodeId  ToNodeId\n",
      "4                                                  0     11342\n",
      "5                                                  0    824020\n",
      "6                                                  0    867923\n",
      "7                                                  0    891835\n",
      "8                                              11342         0\n",
      "9                                              11342     27469\n"
     ]
    },
    {
     "name": "stderr",
     "output_type": "stream",
     "text": [
      "/DATA/amit_1911cs01/anaconda3/lib/python3.7/site-packages/IPython/core/interactiveshell.py:3063: DtypeWarning: Columns (0,1) have mixed types.Specify dtype option on import or set low_memory=False.\n",
      "  interactivity=interactivity, compiler=compiler, result=result)\n"
     ]
    }
   ],
   "source": [
    "df = pd.read_csv('dataset/web-Google.txt.gz', compression='gzip', names=[\"source\", \"target\"], sep='\\t', quotechar='\"', error_bad_lines=False)\n",
    "print(df.head(10))"
   ]
  },
  {
   "cell_type": "code",
   "execution_count": 4,
   "metadata": {},
   "outputs": [],
   "source": [
    "df=df.drop([0, 1,2,3])"
   ]
  },
  {
   "cell_type": "code",
   "execution_count": 5,
   "metadata": {},
   "outputs": [
    {
     "data": {
      "text/html": [
       "<div>\n",
       "<style scoped>\n",
       "    .dataframe tbody tr th:only-of-type {\n",
       "        vertical-align: middle;\n",
       "    }\n",
       "\n",
       "    .dataframe tbody tr th {\n",
       "        vertical-align: top;\n",
       "    }\n",
       "\n",
       "    .dataframe thead th {\n",
       "        text-align: right;\n",
       "    }\n",
       "</style>\n",
       "<table border=\"1\" class=\"dataframe\">\n",
       "  <thead>\n",
       "    <tr style=\"text-align: right;\">\n",
       "      <th></th>\n",
       "      <th>source</th>\n",
       "      <th>target</th>\n",
       "    </tr>\n",
       "  </thead>\n",
       "  <tbody>\n",
       "    <tr>\n",
       "      <th>4</th>\n",
       "      <td>0</td>\n",
       "      <td>11342</td>\n",
       "    </tr>\n",
       "    <tr>\n",
       "      <th>5</th>\n",
       "      <td>0</td>\n",
       "      <td>824020</td>\n",
       "    </tr>\n",
       "    <tr>\n",
       "      <th>6</th>\n",
       "      <td>0</td>\n",
       "      <td>867923</td>\n",
       "    </tr>\n",
       "    <tr>\n",
       "      <th>7</th>\n",
       "      <td>0</td>\n",
       "      <td>891835</td>\n",
       "    </tr>\n",
       "    <tr>\n",
       "      <th>8</th>\n",
       "      <td>11342</td>\n",
       "      <td>0</td>\n",
       "    </tr>\n",
       "    <tr>\n",
       "      <th>...</th>\n",
       "      <td>...</td>\n",
       "      <td>...</td>\n",
       "    </tr>\n",
       "    <tr>\n",
       "      <th>5105038</th>\n",
       "      <td>916425</td>\n",
       "      <td>547323</td>\n",
       "    </tr>\n",
       "    <tr>\n",
       "      <th>5105039</th>\n",
       "      <td>916425</td>\n",
       "      <td>604833</td>\n",
       "    </tr>\n",
       "    <tr>\n",
       "      <th>5105040</th>\n",
       "      <td>916425</td>\n",
       "      <td>632916</td>\n",
       "    </tr>\n",
       "    <tr>\n",
       "      <th>5105041</th>\n",
       "      <td>916425</td>\n",
       "      <td>637936</td>\n",
       "    </tr>\n",
       "    <tr>\n",
       "      <th>5105042</th>\n",
       "      <td>916425</td>\n",
       "      <td>837379</td>\n",
       "    </tr>\n",
       "  </tbody>\n",
       "</table>\n",
       "<p>5105039 rows × 2 columns</p>\n",
       "</div>"
      ],
      "text/plain": [
       "         source  target\n",
       "4             0   11342\n",
       "5             0  824020\n",
       "6             0  867923\n",
       "7             0  891835\n",
       "8         11342       0\n",
       "...         ...     ...\n",
       "5105038  916425  547323\n",
       "5105039  916425  604833\n",
       "5105040  916425  632916\n",
       "5105041  916425  637936\n",
       "5105042  916425  837379\n",
       "\n",
       "[5105039 rows x 2 columns]"
      ]
     },
     "execution_count": 5,
     "metadata": {},
     "output_type": "execute_result"
    }
   ],
   "source": [
    "df"
   ]
  },
  {
   "cell_type": "code",
   "execution_count": 6,
   "metadata": {},
   "outputs": [],
   "source": [
    "df['source'] = df['source'].astype(int)"
   ]
  },
  {
   "cell_type": "code",
   "execution_count": 7,
   "metadata": {},
   "outputs": [],
   "source": [
    "df['target'] = df['target'].astype(int)"
   ]
  },
  {
   "cell_type": "code",
   "execution_count": 8,
   "metadata": {},
   "outputs": [],
   "source": [
    "x=df.iloc[ 5 , : ]"
   ]
  },
  {
   "cell_type": "code",
   "execution_count": 9,
   "metadata": {},
   "outputs": [
    {
     "name": "stdout",
     "output_type": "stream",
     "text": [
      "source    11342\n",
      "target    27469\n",
      "Name: 9, dtype: int64\n"
     ]
    }
   ],
   "source": [
    "print(x)"
   ]
  },
  {
   "cell_type": "code",
   "execution_count": 10,
   "metadata": {},
   "outputs": [],
   "source": [
    "#df=df+[1,1]"
   ]
  },
  {
   "cell_type": "code",
   "execution_count": 11,
   "metadata": {},
   "outputs": [
    {
     "data": {
      "text/html": [
       "<div>\n",
       "<style scoped>\n",
       "    .dataframe tbody tr th:only-of-type {\n",
       "        vertical-align: middle;\n",
       "    }\n",
       "\n",
       "    .dataframe tbody tr th {\n",
       "        vertical-align: top;\n",
       "    }\n",
       "\n",
       "    .dataframe thead th {\n",
       "        text-align: right;\n",
       "    }\n",
       "</style>\n",
       "<table border=\"1\" class=\"dataframe\">\n",
       "  <thead>\n",
       "    <tr style=\"text-align: right;\">\n",
       "      <th></th>\n",
       "      <th>source</th>\n",
       "      <th>target</th>\n",
       "    </tr>\n",
       "  </thead>\n",
       "  <tbody>\n",
       "    <tr>\n",
       "      <th>0</th>\n",
       "      <td>0</td>\n",
       "      <td>11342</td>\n",
       "    </tr>\n",
       "    <tr>\n",
       "      <th>1</th>\n",
       "      <td>0</td>\n",
       "      <td>824020</td>\n",
       "    </tr>\n",
       "    <tr>\n",
       "      <th>2</th>\n",
       "      <td>0</td>\n",
       "      <td>867923</td>\n",
       "    </tr>\n",
       "    <tr>\n",
       "      <th>3</th>\n",
       "      <td>0</td>\n",
       "      <td>891835</td>\n",
       "    </tr>\n",
       "    <tr>\n",
       "      <th>4</th>\n",
       "      <td>11342</td>\n",
       "      <td>0</td>\n",
       "    </tr>\n",
       "    <tr>\n",
       "      <th>...</th>\n",
       "      <td>...</td>\n",
       "      <td>...</td>\n",
       "    </tr>\n",
       "    <tr>\n",
       "      <th>5105034</th>\n",
       "      <td>916425</td>\n",
       "      <td>547323</td>\n",
       "    </tr>\n",
       "    <tr>\n",
       "      <th>5105035</th>\n",
       "      <td>916425</td>\n",
       "      <td>604833</td>\n",
       "    </tr>\n",
       "    <tr>\n",
       "      <th>5105036</th>\n",
       "      <td>916425</td>\n",
       "      <td>632916</td>\n",
       "    </tr>\n",
       "    <tr>\n",
       "      <th>5105037</th>\n",
       "      <td>916425</td>\n",
       "      <td>637936</td>\n",
       "    </tr>\n",
       "    <tr>\n",
       "      <th>5105038</th>\n",
       "      <td>916425</td>\n",
       "      <td>837379</td>\n",
       "    </tr>\n",
       "  </tbody>\n",
       "</table>\n",
       "<p>5105039 rows × 2 columns</p>\n",
       "</div>"
      ],
      "text/plain": [
       "         source  target\n",
       "0             0   11342\n",
       "1             0  824020\n",
       "2             0  867923\n",
       "3             0  891835\n",
       "4         11342       0\n",
       "...         ...     ...\n",
       "5105034  916425  547323\n",
       "5105035  916425  604833\n",
       "5105036  916425  632916\n",
       "5105037  916425  637936\n",
       "5105038  916425  837379\n",
       "\n",
       "[5105039 rows x 2 columns]"
      ]
     },
     "execution_count": 11,
     "metadata": {},
     "output_type": "execute_result"
    }
   ],
   "source": [
    "df.reset_index(drop=True)"
   ]
  },
  {
   "cell_type": "code",
   "execution_count": 12,
   "metadata": {},
   "outputs": [
    {
     "data": {
      "text/plain": [
       "source    916427\n",
       "target    916427\n",
       "dtype: int64"
      ]
     },
     "execution_count": 12,
     "metadata": {},
     "output_type": "execute_result"
    }
   ],
   "source": [
    "df.max()"
   ]
  },
  {
   "cell_type": "code",
   "execution_count": 13,
   "metadata": {},
   "outputs": [
    {
     "data": {
      "text/plain": [
       "source    0\n",
       "target    0\n",
       "dtype: int64"
      ]
     },
     "execution_count": 13,
     "metadata": {},
     "output_type": "execute_result"
    }
   ],
   "source": [
    "df.min()"
   ]
  },
  {
   "cell_type": "code",
   "execution_count": 14,
   "metadata": {},
   "outputs": [],
   "source": [
    "google_web_graph_network=Graph(directed=True)\n"
   ]
  },
  {
   "cell_type": "code",
   "execution_count": 15,
   "metadata": {},
   "outputs": [],
   "source": [
    "google_web_graph_network.add_vertices(916428)"
   ]
  },
  {
   "cell_type": "code",
   "execution_count": 16,
   "metadata": {},
   "outputs": [
    {
     "name": "stdout",
     "output_type": "stream",
     "text": [
      "IGRAPH D--- 916428 0 --\n"
     ]
    }
   ],
   "source": [
    "print(google_web_graph_network)"
   ]
  },
  {
   "cell_type": "code",
   "execution_count": 17,
   "metadata": {},
   "outputs": [],
   "source": [
    "google_web_graph_network.add_edges(zip(df[\"source\"], df[\"target\"]))"
   ]
  },
  {
   "cell_type": "code",
   "execution_count": 18,
   "metadata": {},
   "outputs": [
    {
     "name": "stdout",
     "output_type": "stream",
     "text": [
      "Number of vertices in the graph: 916428\n",
      "Number of edges in the graph 5105039\n",
      "Is the graph directed: True\n",
      "Maximum degree in the graph: 6353\n"
     ]
    }
   ],
   "source": [
    "\n",
    "\n",
    "print(\"Number of vertices in the graph:\",google_web_graph_network.vcount())\n",
    "print(\"Number of edges in the graph\",google_web_graph_network.ecount())\n",
    "print(\"Is the graph directed:\", google_web_graph_network.is_directed())\n",
    "print(\"Maximum degree in the graph:\", google_web_graph_network.maxdegree())"
   ]
  },
  {
   "cell_type": "code",
   "execution_count": 22,
   "metadata": {},
   "outputs": [
    {
     "data": {
      "text/plain": [
       "'IGRAPH D--- 916428 5105039 -- '"
      ]
     },
     "execution_count": 22,
     "metadata": {},
     "output_type": "execute_result"
    }
   ],
   "source": [
    "google_web_graph_network.summary()"
   ]
  },
  {
   "cell_type": "code",
   "execution_count": 24,
   "metadata": {},
   "outputs": [
    {
     "name": "stderr",
     "output_type": "stream",
     "text": [
      "  0%|          | 0/6 [00:00<?, ?it/s]\n",
      "  0%|          | 0/20 [00:00<?, ?it/s]\u001b[A\n",
      "  5%|▌         | 1/20 [00:25<08:00, 25.31s/it]\u001b[A\n",
      " 10%|█         | 2/20 [00:51<07:39, 25.52s/it]\u001b[A\n",
      " 15%|█▌        | 3/20 [01:16<07:13, 25.48s/it]\u001b[A\n",
      " 20%|██        | 4/20 [01:42<06:49, 25.62s/it]\u001b[A\n",
      " 25%|██▌       | 5/20 [02:08<06:25, 25.70s/it]\u001b[A\n",
      " 30%|███       | 6/20 [02:35<06:04, 26.01s/it]\u001b[A\n",
      " 35%|███▌      | 7/20 [03:01<05:38, 26.03s/it]\u001b[A\n",
      " 40%|████      | 8/20 [03:27<05:11, 25.93s/it]\u001b[A\n",
      " 45%|████▌     | 9/20 [03:56<04:55, 26.89s/it]\u001b[A\n",
      " 50%|█████     | 10/20 [04:21<04:24, 26.49s/it]\u001b[A\n",
      " 55%|█████▌    | 11/20 [04:46<03:54, 26.09s/it]\u001b[A\n",
      " 60%|██████    | 12/20 [05:11<03:24, 25.54s/it]\u001b[A\n",
      " 65%|██████▌   | 13/20 [05:36<02:57, 25.36s/it]\u001b[A\n",
      " 70%|███████   | 14/20 [06:02<02:34, 25.77s/it]\u001b[A\n",
      " 75%|███████▌  | 15/20 [06:28<02:08, 25.66s/it]\u001b[A\n",
      " 80%|████████  | 16/20 [06:53<01:41, 25.46s/it]\u001b[A\n",
      " 85%|████████▌ | 17/20 [07:18<01:16, 25.36s/it]\u001b[A\n",
      " 90%|█████████ | 18/20 [07:43<00:50, 25.44s/it]\u001b[A\n",
      " 95%|█████████▌| 19/20 [08:11<00:26, 26.21s/it]\u001b[A\n",
      "100%|██████████| 20/20 [08:38<00:00, 25.93s/it]\u001b[A\n",
      " 17%|█▋        | 1/6 [09:46<48:50, 586.17s/it]\n",
      "  0%|          | 0/20 [00:00<?, ?it/s]\u001b[A\n",
      "  5%|▌         | 1/20 [00:27<08:42, 27.50s/it]\u001b[A\n",
      " 10%|█         | 2/20 [01:00<08:44, 29.13s/it]\u001b[A\n",
      " 15%|█▌        | 3/20 [01:28<08:07, 28.66s/it]\u001b[A\n",
      " 20%|██        | 4/20 [01:55<07:33, 28.37s/it]\u001b[A\n",
      " 25%|██▌       | 5/20 [02:25<07:11, 28.74s/it]\u001b[A\n",
      " 30%|███       | 6/20 [02:55<06:49, 29.27s/it]\u001b[A\n",
      " 35%|███▌      | 7/20 [03:24<06:17, 29.04s/it]\u001b[A\n",
      " 40%|████      | 8/20 [03:51<05:43, 28.63s/it]\u001b[A\n",
      " 45%|████▌     | 9/20 [04:20<05:13, 28.51s/it]\u001b[A\n",
      " 50%|█████     | 10/20 [04:48<04:43, 28.31s/it]\u001b[A\n",
      " 55%|█████▌    | 11/20 [05:14<04:10, 27.88s/it]\u001b[A\n",
      " 60%|██████    | 12/20 [05:42<03:42, 27.78s/it]\u001b[A\n",
      " 65%|██████▌   | 13/20 [06:09<03:13, 27.66s/it]\u001b[A\n",
      " 70%|███████   | 14/20 [06:40<02:52, 28.70s/it]\u001b[A\n",
      " 75%|███████▌  | 15/20 [07:09<02:23, 28.77s/it]\u001b[A\n",
      " 80%|████████  | 16/20 [07:37<01:54, 28.50s/it]\u001b[A\n",
      " 85%|████████▌ | 17/20 [08:05<01:24, 28.27s/it]\u001b[A\n",
      " 90%|█████████ | 18/20 [08:36<00:58, 29.12s/it]\u001b[A\n",
      " 95%|█████████▌| 19/20 [09:05<00:29, 29.08s/it]\u001b[A\n",
      "100%|██████████| 20/20 [09:33<00:00, 28.66s/it]\u001b[A\n",
      " 33%|███▎      | 2/6 [20:25<40:08, 602.20s/it]\n",
      "  0%|          | 0/20 [00:00<?, ?it/s]\u001b[A\n",
      "  5%|▌         | 1/20 [00:26<08:31, 26.94s/it]\u001b[A\n",
      " 10%|█         | 2/20 [00:55<08:11, 27.32s/it]\u001b[A\n",
      " 15%|█▌        | 3/20 [01:22<07:44, 27.33s/it]\u001b[A\n",
      " 20%|██        | 4/20 [01:49<07:14, 27.16s/it]\u001b[A\n",
      " 25%|██▌       | 5/20 [02:17<06:50, 27.38s/it]\u001b[A\n",
      " 30%|███       | 6/20 [02:44<06:24, 27.44s/it]\u001b[A\n",
      " 35%|███▌      | 7/20 [03:15<06:09, 28.41s/it]\u001b[A\n",
      " 40%|████      | 8/20 [03:43<05:41, 28.42s/it]\u001b[A\n",
      " 45%|████▌     | 9/20 [04:11<05:09, 28.13s/it]\u001b[A\n",
      " 50%|█████     | 10/20 [04:39<04:42, 28.28s/it]\u001b[A\n",
      " 55%|█████▌    | 11/20 [05:07<04:13, 28.21s/it]\u001b[A\n",
      " 60%|██████    | 12/20 [05:34<03:42, 27.81s/it]\u001b[A\n",
      " 65%|██████▌   | 13/20 [06:03<03:16, 28.13s/it]\u001b[A\n",
      " 70%|███████   | 14/20 [06:35<02:54, 29.14s/it]\u001b[A\n",
      " 75%|███████▌  | 15/20 [07:06<02:28, 29.73s/it]\u001b[A\n",
      " 80%|████████  | 16/20 [07:33<01:56, 29.09s/it]\u001b[A\n",
      " 85%|████████▌ | 17/20 [08:02<01:27, 29.01s/it]\u001b[A\n",
      " 90%|█████████ | 18/20 [08:33<00:59, 29.54s/it]\u001b[A\n",
      " 95%|█████████▌| 19/20 [09:01<00:29, 29.03s/it]\u001b[A\n",
      "100%|██████████| 20/20 [09:31<00:00, 28.59s/it]\u001b[A\n",
      " 50%|█████     | 3/6 [31:13<30:47, 615.87s/it]\n",
      "  0%|          | 0/20 [00:00<?, ?it/s]\u001b[A\n",
      "  5%|▌         | 1/20 [00:29<09:19, 29.42s/it]\u001b[A\n",
      " 10%|█         | 2/20 [00:57<08:40, 28.92s/it]\u001b[A\n",
      " 15%|█▌        | 3/20 [01:24<08:04, 28.50s/it]\u001b[A\n",
      " 20%|██        | 4/20 [01:52<07:34, 28.39s/it]\u001b[A\n",
      " 25%|██▌       | 5/20 [02:21<07:07, 28.50s/it]\u001b[A\n",
      " 30%|███       | 6/20 [02:50<06:40, 28.58s/it]\u001b[A\n",
      " 35%|███▌      | 7/20 [03:20<06:16, 29.00s/it]\u001b[A\n",
      " 40%|████      | 8/20 [03:48<05:46, 28.89s/it]\u001b[A\n",
      " 45%|████▌     | 9/20 [04:22<05:34, 30.43s/it]\u001b[A\n",
      " 50%|█████     | 10/20 [04:54<05:06, 30.65s/it]\u001b[A\n",
      " 55%|█████▌    | 11/20 [05:22<04:29, 29.89s/it]\u001b[A\n",
      " 60%|██████    | 12/20 [05:50<03:55, 29.47s/it]\u001b[A\n",
      " 65%|██████▌   | 13/20 [06:17<03:20, 28.70s/it]\u001b[A\n",
      " 70%|███████   | 14/20 [06:45<02:50, 28.41s/it]\u001b[A\n",
      " 75%|███████▌  | 15/20 [07:17<02:27, 29.46s/it]\u001b[A\n",
      " 80%|████████  | 16/20 [07:45<01:56, 29.07s/it]\u001b[A\n",
      " 85%|████████▌ | 17/20 [08:13<01:26, 28.74s/it]\u001b[A\n",
      " 90%|█████████ | 18/20 [08:40<00:56, 28.25s/it]\u001b[A\n",
      " 95%|█████████▌| 19/20 [09:07<00:27, 27.92s/it]\u001b[A\n",
      "100%|██████████| 20/20 [09:35<00:00, 28.78s/it]\u001b[A\n",
      " 67%|██████▋   | 4/6 [41:53<20:46, 623.07s/it]\n",
      "  0%|          | 0/20 [00:00<?, ?it/s]\u001b[A\n",
      "  5%|▌         | 1/20 [00:30<09:31, 30.06s/it]\u001b[A\n",
      " 10%|█         | 2/20 [00:59<08:58, 29.92s/it]\u001b[A\n",
      " 15%|█▌        | 3/20 [01:27<08:19, 29.38s/it]\u001b[A\n",
      " 20%|██        | 4/20 [01:56<07:47, 29.25s/it]\u001b[A\n",
      " 25%|██▌       | 5/20 [02:25<07:16, 29.13s/it]\u001b[A\n",
      " 30%|███       | 6/20 [02:53<06:42, 28.75s/it]\u001b[A\n",
      " 35%|███▌      | 7/20 [03:21<06:10, 28.50s/it]\u001b[A\n",
      " 40%|████      | 8/20 [03:49<05:42, 28.50s/it]\u001b[A\n",
      " 45%|████▌     | 9/20 [04:18<05:13, 28.52s/it]\u001b[A\n",
      " 50%|█████     | 10/20 [04:47<04:45, 28.56s/it]\u001b[A\n",
      " 55%|█████▌    | 11/20 [05:15<04:15, 28.37s/it]\u001b[A\n",
      " 60%|██████    | 12/20 [05:41<03:42, 27.85s/it]\u001b[A\n",
      " 65%|██████▌   | 13/20 [06:12<03:20, 28.65s/it]\u001b[A\n",
      " 70%|███████   | 14/20 [06:39<02:49, 28.30s/it]\u001b[A\n",
      " 75%|███████▌  | 15/20 [07:06<02:19, 27.97s/it]\u001b[A\n",
      " 80%|████████  | 16/20 [07:34<01:51, 27.94s/it]\u001b[A\n",
      " 85%|████████▌ | 17/20 [08:04<01:25, 28.49s/it]\u001b[A\n",
      " 90%|█████████ | 18/20 [08:36<00:59, 29.62s/it]\u001b[A\n",
      " 95%|█████████▌| 19/20 [09:06<00:29, 29.51s/it]\u001b[A\n",
      "100%|██████████| 20/20 [09:34<00:00, 28.70s/it]\u001b[A\n",
      " 83%|████████▎ | 5/6 [52:41<10:30, 630.52s/it]\n",
      "  0%|          | 0/20 [00:00<?, ?it/s]\u001b[A\n",
      "  5%|▌         | 1/20 [00:29<09:19, 29.46s/it]\u001b[A\n",
      " 10%|█         | 2/20 [00:57<08:43, 29.10s/it]\u001b[A\n",
      " 15%|█▌        | 3/20 [01:26<08:12, 28.96s/it]\u001b[A\n",
      " 20%|██        | 4/20 [01:56<07:47, 29.22s/it]\u001b[A\n",
      " 25%|██▌       | 5/20 [02:29<07:37, 30.51s/it]\u001b[A\n",
      " 30%|███       | 6/20 [03:00<07:07, 30.56s/it]\u001b[A\n",
      " 35%|███▌      | 7/20 [03:28<06:29, 29.95s/it]\u001b[A\n",
      " 40%|████      | 8/20 [03:57<05:54, 29.55s/it]\u001b[A\n",
      " 45%|████▌     | 9/20 [04:25<05:20, 29.12s/it]\u001b[A\n",
      " 50%|█████     | 10/20 [04:54<04:51, 29.10s/it]\u001b[A\n",
      " 55%|█████▌    | 11/20 [05:23<04:21, 29.08s/it]\u001b[A\n",
      " 60%|██████    | 12/20 [05:53<03:53, 29.15s/it]\u001b[A\n",
      " 65%|██████▌   | 13/20 [06:22<03:24, 29.22s/it]\u001b[A\n",
      " 70%|███████   | 14/20 [06:51<02:55, 29.32s/it]\u001b[A\n",
      " 75%|███████▌  | 15/20 [07:20<02:24, 29.00s/it]\u001b[A\n",
      " 80%|████████  | 16/20 [07:54<02:02, 30.54s/it]\u001b[A\n",
      " 85%|████████▌ | 17/20 [08:22<01:29, 29.94s/it]\u001b[A\n",
      " 90%|█████████ | 18/20 [08:51<00:58, 29.44s/it]\u001b[A\n",
      " 95%|█████████▌| 19/20 [09:20<00:29, 29.34s/it]\u001b[A\n",
      "100%|██████████| 20/20 [09:47<00:00, 29.40s/it]\u001b[A\n",
      "100%|██████████| 6/6 [1:03:34<00:00, 635.81s/it]\n"
     ]
    }
   ],
   "source": [
    "graph=google_web_graph_network\n",
    "# brute_force_spreads1=[] \n",
    "# brute_force_elapsed1=[] \n",
    "# greedy_spreads1=[] \n",
    "# greedy_elapsed1=[] \n",
    "# celf_spreads1=[] \n",
    "# celf_elapsed1=[] \n",
    "# celfpp_spreads1=[] \n",
    "# celfpp_elapsed1=[]\n",
    "simulated_annealing_spreads1=[] \n",
    "simulated_annealing_elapsed1=[] \n",
    "genetic_algorithm_spreads1=[] \n",
    "genetic_algorithm_elapsed1=[]\n",
    "artificial_bee_colony_optimization_spreads1=[]\n",
    "artificial_bee_colony_optimization_elapsed1=[]\n",
    "lower_seed_size,higher_seed_size=50,56\n",
    "for i in tqdm(range(lower_seed_size,higher_seed_size,1)):\n",
    "    k = i\n",
    "    prob = 0.1\n",
    "    n_iters =10\n",
    "    #brute_force_solution,brute_force_spreads,brute_force_elapsed=brute_force(graph,k,prob,n_iters)\n",
    "    #greedy_solution, greedy_spreads, greedy_elapsed = greedy_algorithm.algo(graph, k, prob, n_iters)\n",
    "#     celf_solution, celf_spreads, celf_elapsed= celf.algo(graph, k, prob, n_iters)\n",
    "#     celfpp_solution, celfpp_spreads, celfpp_elapsed = celfpp.algo(graph, k, prob, n_iters)\n",
    "    simulated_annealing_solution,simulated_annealing_spreads,simulated_annealing_elapsed=simulated_annealing.algo(graph,k,prob,n_iters)\n",
    "    generation_count=20\n",
    "    population_size=100\n",
    "    genetic_algorithm_solution,genetic_algorithm_spreads,genetic_algorithm_elapsed=genetic_algorithm.algo(graph,generation_count,population_size,k)\n",
    "    \n",
    "    artificial_bee_colony_optimization_solution,artificial_bee_colony_optimization_spreads,artificial_bee_colony_optimization_elapsed=artificial_bee_colony_optimization.algo(graph,k,prob,n_iters)\n",
    "\n",
    "\n",
    "\n",
    "    #brute_force_spreads1.append(brute_force_spreads) \n",
    "    #brute_force_elapsed1.append(brute_force_elapsed) \n",
    "    \n",
    "#     greedy_spreads1.append(greedy_spreads)\n",
    "#     greedy_elapsed1.append(greedy_elapsed)\n",
    "    \n",
    "#     celf_spreads1.append(celf_spreads) \n",
    "#     celf_elapsed1.append(celf_elapsed)\n",
    "    \n",
    "#     celfpp_spreads1.append(celfpp_spreads) \n",
    "#     celfpp_elapsed1.append(celfpp_elapsed)\n",
    "    \n",
    "    simulated_annealing_spreads1.append(simulated_annealing_spreads) \n",
    "    simulated_annealing_elapsed1.append(simulated_annealing_elapsed)\n",
    "    genetic_algorithm_spreads1.append(genetic_algorithm_spreads) \n",
    "    genetic_algorithm_elapsed1.append(genetic_algorithm_elapsed)\n",
    "    artificial_bee_colony_optimization_spreads1.append(artificial_bee_colony_optimization_spreads) \n",
    "    artificial_bee_colony_optimization_elapsed1.append(artificial_bee_colony_optimization_elapsed)"
   ]
  },
  {
   "cell_type": "code",
   "execution_count": 25,
   "metadata": {},
   "outputs": [],
   "source": [
    "x=list(range(lower_seed_size,higher_seed_size,1))"
   ]
  },
  {
   "cell_type": "code",
   "execution_count": 26,
   "metadata": {},
   "outputs": [
    {
     "data": {
      "image/png": "[encoded data removed]",
      "text/plain": [
       "<Figure size 432x288 with 1 Axes>"
      ]
     },
     "metadata": {
      "needs_background": "light"
     },
     "output_type": "display_data"
    }
   ],
   "source": [
    "# plotting the points  \n",
    "#plt.plot(x, y1,label=\"Brute-force\") \n",
    "\n",
    "# plt.plot(x, greedy_spreads1,label=\"Greedy\")\n",
    "\n",
    "# plt.plot(x, celf_spreads1,label=\"CELF\")\n",
    "\n",
    "# plt.plot(x, celfpp_spreads1,label=\"CELF++\")\n",
    "\n",
    "plt.plot(x, simulated_annealing_spreads1,label=\"Simulated-Annealing\")\n",
    "plt.plot(x, genetic_algorithm_spreads1,label=\"Genetic-Algorithm\")\n",
    "plt.plot(x, artificial_bee_colony_optimization_spreads1,label=\"Artificial-Bee-Colony-Optimization\")\n",
    "# naming the x axis \n",
    "plt.xlabel('Size of Seed Set') \n",
    "# naming the y axis \n",
    "plt.ylabel('Expected Spread') \n",
    "  \n",
    "# giving a title to my graph \n",
    "plt.title('Spread-Graph') \n",
    "plt.legend()\n",
    "# function to show the plot \n",
    "plt.show() "
   ]
  },
  {
   "cell_type": "code",
   "execution_count": 27,
   "metadata": {},
   "outputs": [
    {
     "data": {
      "image/png": "[encoded data removed]",
      "text/plain": [
       "<Figure size 432x288 with 1 Axes>"
      ]
     },
     "metadata": {
      "needs_background": "light"
     },
     "output_type": "display_data"
    }
   ],
   "source": [
    "# plotting the points \n",
    "#plt.plot(x, brute_force_elapsed1,label=\"Brute-force\") \n",
    "\n",
    "# plt.plot(x, greedy_elapsed1,label=\"Greedy\")\n",
    "\n",
    "# plt.plot(x, celf_elapsed1,label=\"CELF\")\n",
    "\n",
    "# plt.plot(x, celfpp_elapsed1,label=\"CELF++\")\n",
    "\n",
    "plt.plot(x, simulated_annealing_elapsed1,label=\"Simulated-Annealing\")\n",
    "plt.plot(x, genetic_algorithm_elapsed1,label=\"Genetic-Algorithm\")\n",
    "plt.plot(x, artificial_bee_colony_optimization_elapsed1,label=\"Artificial-Bee-Colony-Optimization\")\n",
    "# naming the x axis \n",
    "plt.xlabel('Size of Seed Set') \n",
    "# naming the y axis \n",
    "plt.ylabel('Computation Time') \n",
    "  \n",
    "# giving a title to my graph \n",
    "plt.title('Computation-Graph') \n",
    "plt.legend()\n",
    "# function to show the plot \n",
    "plt.show() "
   ]
  },
  {
   "cell_type": "code",
   "execution_count": null,
   "metadata": {},
   "outputs": [],
   "source": []
  }
 ],
 "metadata": {
  "kernelspec": {
   "display_name": "Python 3",
   "language": "python",
   "name": "python3"
  },
  "language_info": {
   "codemirror_mode": {
    "name": "ipython",
    "version": 3
   },
   "file_extension": ".py",
   "mimetype": "text/x-python",
   "name": "python",
   "nbconvert_exporter": "python",
   "pygments_lexer": "ipython3",
   "version": "3.7.6"
  }
 },
 "nbformat": 4,
 "nbformat_minor": 4
}

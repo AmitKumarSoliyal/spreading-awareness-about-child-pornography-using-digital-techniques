{
 "cells": [
  {
   "cell_type": "code",
   "execution_count": 1,
   "metadata": {},
   "outputs": [],
   "source": [
    "import time\n",
    "import numpy as np\n",
    "import matplotlib.pyplot as plt\n",
    "from igraph import Graph  # pip install python-igraph\n",
    "from tqdm import tqdm\n",
    "from itertools import product\n",
    "import itertools \n",
    "import pandas as pd"
   ]
  },
  {
   "cell_type": "code",
   "execution_count": 2,
   "metadata": {},
   "outputs": [],
   "source": [
    "data = pd.read_csv(\"facebook_combined.txt\",sep=' ',names=[\"source\", \"target\"])"
   ]
  },
  {
   "cell_type": "code",
   "execution_count": 3,
   "metadata": {},
   "outputs": [
    {
     "data": {
      "text/html": [
       "<div>\n",
       "<style scoped>\n",
       "    .dataframe tbody tr th:only-of-type {\n",
       "        vertical-align: middle;\n",
       "    }\n",
       "\n",
       "    .dataframe tbody tr th {\n",
       "        vertical-align: top;\n",
       "    }\n",
       "\n",
       "    .dataframe thead th {\n",
       "        text-align: right;\n",
       "    }\n",
       "</style>\n",
       "<table border=\"1\" class=\"dataframe\">\n",
       "  <thead>\n",
       "    <tr style=\"text-align: right;\">\n",
       "      <th></th>\n",
       "      <th>source</th>\n",
       "      <th>target</th>\n",
       "    </tr>\n",
       "  </thead>\n",
       "  <tbody>\n",
       "    <tr>\n",
       "      <td>0</td>\n",
       "      <td>0</td>\n",
       "      <td>1</td>\n",
       "    </tr>\n",
       "    <tr>\n",
       "      <td>1</td>\n",
       "      <td>0</td>\n",
       "      <td>2</td>\n",
       "    </tr>\n",
       "    <tr>\n",
       "      <td>2</td>\n",
       "      <td>0</td>\n",
       "      <td>3</td>\n",
       "    </tr>\n",
       "    <tr>\n",
       "      <td>3</td>\n",
       "      <td>0</td>\n",
       "      <td>4</td>\n",
       "    </tr>\n",
       "    <tr>\n",
       "      <td>4</td>\n",
       "      <td>0</td>\n",
       "      <td>5</td>\n",
       "    </tr>\n",
       "  </tbody>\n",
       "</table>\n",
       "</div>"
      ],
      "text/plain": [
       "   source  target\n",
       "0       0       1\n",
       "1       0       2\n",
       "2       0       3\n",
       "3       0       4\n",
       "4       0       5"
      ]
     },
     "execution_count": 3,
     "metadata": {},
     "output_type": "execute_result"
    }
   ],
   "source": [
    "data.head()"
   ]
  },
  {
   "cell_type": "code",
   "execution_count": 4,
   "metadata": {},
   "outputs": [
    {
     "data": {
      "text/plain": [
       "0           0\n",
       "1           0\n",
       "2           0\n",
       "3           0\n",
       "4           0\n",
       "         ... \n",
       "88229    4026\n",
       "88230    4027\n",
       "88231    4027\n",
       "88232    4027\n",
       "88233    4031\n",
       "Name: source, Length: 88234, dtype: int64"
      ]
     },
     "execution_count": 4,
     "metadata": {},
     "output_type": "execute_result"
    }
   ],
   "source": [
    "data[\"source\"]"
   ]
  },
  {
   "cell_type": "markdown",
   "metadata": {},
   "source": [
    "4,039 nodes"
   ]
  },
  {
   "cell_type": "code",
   "execution_count": 5,
   "metadata": {},
   "outputs": [],
   "source": [
    "graph = Graph(directed=True)"
   ]
  },
  {
   "cell_type": "code",
   "execution_count": 6,
   "metadata": {},
   "outputs": [],
   "source": [
    "graph.add_vertices(4039 )\n",
    "graph.add_edges(zip(data[\"source\"],  data[\"target\"]))"
   ]
  },
  {
   "cell_type": "code",
   "execution_count": 7,
   "metadata": {},
   "outputs": [
    {
     "name": "stdout",
     "output_type": "stream",
     "text": [
      "vertices count: 4039\n",
      "edges count: 88234\n",
      "neighbors:  [20, 115, 116, 149, 226, 312, 326, 333, 343]\n"
     ]
    }
   ],
   "source": [
    "print('vertices count:',  graph.vcount())\n",
    "print('edges count:',  graph.ecount())\n",
    "print('neighbors: ', graph.neighbors(2, mode='out'))\n"
   ]
  },
  {
   "cell_type": "code",
   "execution_count": 8,
   "metadata": {},
   "outputs": [],
   "source": [
    "def compute_independent_cascade(graph, seed_nodes, prob, n_iters=1000):\n",
    "    total_spread = 0\n",
    "\n",
    "    # simulate the spread process over multiple runs\n",
    "    for i in range(n_iters):\n",
    "        np.random.seed(i)\n",
    "        active = seed_nodes[:]\n",
    "        new_active = seed_nodes[:]\n",
    "        \n",
    "        # for each newly activated nodes, find its neighbors that becomes activated\n",
    "        while new_active:\n",
    "            activated_nodes = []\n",
    "            for node in new_active:\n",
    "                neighbors = graph.neighbors(node, mode='out')\n",
    "                success = np.random.uniform(0, 1, len(neighbors)) < prob\n",
    "                activated_nodes += list(np.extract(success, neighbors))\n",
    "\n",
    "            # ensure the newly activated nodes doesn't already exist\n",
    "            # in the final list of activated nodes before adding them\n",
    "            # to the final list\n",
    "            new_active = list(set(activated_nodes) - set(active))\n",
    "            active += new_active\n",
    "\n",
    "        total_spread += len(active)\n",
    "\n",
    "    return total_spread / n_iters"
   ]
  },
  {
   "cell_type": "code",
   "execution_count": 9,
   "metadata": {},
   "outputs": [],
   "source": [
    "def brute_force(graph, k=2, prob=0.2, n_iters=1000):\n",
    "    #elapsed = []\n",
    "    #spreads = []\n",
    "    #solution = []\n",
    "    start_time = time.time()\n",
    "    seed_sets=list(itertools.combinations(range(graph.vcount()), k)) \n",
    "    #seed_sets=list(product(list(range(graph.vcount())),repeat=k))\n",
    "    best_spread = -np.inf\n",
    "    best_seed=[]\n",
    "    for seed in tqdm(seed_sets):\n",
    "        spread = compute_independent_cascade(graph,list(seed), prob, n_iters)\n",
    "        if spread > best_spread:\n",
    "                best_spread = spread\n",
    "                best_seed=seed\n",
    "        #solution.append(best_seed)\n",
    "       # spreads.append(best_spread)\n",
    "\n",
    "\n",
    "        #elapse = round(time.time() - start_time, 3)\n",
    "       # elapsed.append(elapse)\n",
    "    end_time=time.time()\n",
    "    return best_seed, best_spread*100/graph.vcount(),round(end_time-start_time,2)"
   ]
  },
  {
   "cell_type": "code",
   "execution_count": 10,
   "metadata": {},
   "outputs": [],
   "source": [
    "def greedy(graph, k, prob=0.2, n_iters=1000):\n",
    "    \"\"\"\n",
    "    Find k nodes with the largest spread (determined by IC) from a igraph graph\n",
    "    using the Greedy Algorithm.\n",
    "    \"\"\"\n",
    "\n",
    "    # we will be storing elapsed time and spreads along the way, in a setting where\n",
    "    # we only care about the final solution, we don't need to record these\n",
    "    # additional information\n",
    "    elapsed = []\n",
    "    spreads = []\n",
    "    solution = []\n",
    "    start_time = time.time()\n",
    "    for _ in tqdm(range(k)):\n",
    "        best_node = -1\n",
    "        best_spread = -np.inf\n",
    "\n",
    "        # loop over nodes that are not yet in our final solution\n",
    "        # to find biggest marginal gain\n",
    "        nodes = set(range(graph.vcount())) - set(solution)\n",
    "        for node in nodes:\n",
    "            spread = compute_independent_cascade(graph, solution + [node], prob, n_iters)\n",
    "            if spread > best_spread:\n",
    "                best_spread = spread\n",
    "                best_node = node\n",
    "\n",
    "        solution.append(best_node)\n",
    "        #spreads.append(best_spread)\n",
    "\n",
    "        #elapse = round(time.time() - start_time, 3)\n",
    "       # elapsed.append(elapse)\n",
    "    end_time=time.time()\n",
    "    return solution, round(best_spread*100/graph.vcount(),2), round(end_time-start_time, 2)"
   ]
  },
  {
   "cell_type": "code",
   "execution_count": 11,
   "metadata": {},
   "outputs": [],
   "source": [
    "import heapq\n",
    "\n",
    "\n",
    "def celf(graph, k, prob, n_iters=1000):\n",
    "    \"\"\"\n",
    "    Find k nodes with the largest spread (determined by IC) from a igraph graph\n",
    "    using the Cost Effective Lazy Forward Algorithm, a.k.a Lazy Greedy Algorithm.\n",
    "    \"\"\"\n",
    "    start_time = time.time()\n",
    "\n",
    "    # find the first node with greedy algorithm:\n",
    "    # python's heap is a min-heap, thus\n",
    "    # we negate the spread to get the node\n",
    "    # with the maximum spread when popping from the heap\n",
    "    gains = []\n",
    "    for node in range(graph.vcount()):\n",
    "        spread = compute_independent_cascade(graph, [node], prob, n_iters)\n",
    "        heapq.heappush(gains, (-spread, node))\n",
    "\n",
    "    # we pop the heap to get the node with the best spread,\n",
    "    # when storing the spread to negate it again to store the actual spread\n",
    "    spread, node = heapq.heappop(gains)\n",
    "    solution = [node]\n",
    "    spread = -spread\n",
    "    spreads = [spread]\n",
    "\n",
    "    # record the number of times the spread is computed\n",
    "    lookups = [graph.vcount()]\n",
    "    elapsed = [round(time.time() - start_time, 3)]\n",
    "\n",
    "    for _ in tqdm(range(k - 1)):\n",
    "        node_lookup = 0\n",
    "        matched = False\n",
    "\n",
    "        while not matched:\n",
    "            node_lookup += 1\n",
    "\n",
    "            # here we need to compute the marginal gain of adding the current node\n",
    "            # to the solution, instead of just the gain, i.e. we need to subtract\n",
    "            # the spread without adding the current node\n",
    "            _, current_node = heapq.heappop(gains)\n",
    "            spread_gain = compute_independent_cascade(graph, solution + [current_node], prob, n_iters) - spread\n",
    "\n",
    "            # check if the previous top node stayed on the top after pushing\n",
    "            # the marginal gain to the heap\n",
    "            heapq.heappush(gains, (-spread_gain, current_node))\n",
    "            matched = gains[0][1] == current_node\n",
    "\n",
    "        # spread stores the cumulative spread\n",
    "        spread_gain, node = heapq.heappop(gains)\n",
    "        spread -= spread_gain\n",
    "        solution.append(node)\n",
    "        #spreads.append(spread)\n",
    "        lookups.append(node_lookup)\n",
    "\n",
    "        #elapse = round(time.time() - start_time, 3)\n",
    "        #elapsed.append(elapse)\n",
    "    end_time=time.time()\n",
    "    return solution, round(spread*100/graph.vcount(),2), round(end_time-start_time, 2), lookups"
   ]
  },
  {
   "cell_type": "code",
   "execution_count": 12,
   "metadata": {},
   "outputs": [
    {
     "name": "stderr",
     "output_type": "stream",
     "text": [
      "100%|██████████| 1/1 [00:55<00:00, 55.96s/it]\n",
      "0it [00:00, ?it/s]\n",
      "100%|██████████| 2/2 [25:14<00:00, 757.42s/it]\n",
      "100%|██████████| 1/1 [00:46<00:00, 46.52s/it]\n",
      "100%|██████████| 3/3 [53:30<00:00, 1070.11s/it]\n",
      "100%|██████████| 2/2 [07:53<00:00, 236.52s/it]\n",
      "100%|██████████| 4/4 [1:15:17<00:00, 1129.43s/it]\n",
      "100%|██████████| 3/3 [10:30<00:00, 210.27s/it]\n"
     ]
    }
   ],
   "source": [
    "brute_force_spreads=[] \n",
    "brute_force_elapsed=[] \n",
    "greedy_spreads=[] \n",
    "greedy_elapsed=[] \n",
    "celf_spreads=[] \n",
    "celf_elapsed=[] \n",
    "for i in (range(1,5,1)):\n",
    "    k = i\n",
    "    prob = 0.1\n",
    "    n_iters = 5\n",
    "    #brute_force_solution1,brute_force_spreads1,brute_force_elapsed1=brute_force(graph,k,prob,n_iters)\n",
    "    greedy_solution1, greedy_spreads1, greedy_elapsed1 = greedy(graph, k, prob, n_iters)\n",
    "    celf_solution1, celf_spreads1, celf_elapsed1, celf_lookups1 = celf(graph, k, prob, n_iters)\n",
    "    \n",
    "    #brute_force_spreads.append(brute_force_spreads1) \n",
    "    #brute_force_elapsed.append(brute_force_elapsed1) \n",
    "    greedy_spreads.append(greedy_spreads1)\n",
    "    greedy_elapsed.append(greedy_elapsed1)\n",
    "    celf_spreads.append(celf_spreads1) \n",
    "    celf_elapsed.append(celf_elapsed1)\n",
    "   "
   ]
  },
  {
   "cell_type": "code",
   "execution_count": 13,
   "metadata": {},
   "outputs": [
    {
     "data": {
      "image/png": "[encoded data removed]",
      "text/plain": [
       "<Figure size 432x288 with 1 Axes>"
      ]
     },
     "metadata": {
      "needs_background": "light"
     },
     "output_type": "display_data"
    }
   ],
   "source": [
    "x=list(range(1,5,1))\n",
    "# plotting the points  \n",
    "#plt.plot(x, brute_force_spreads,label=\"Brute-force\") \n",
    "plt.plot(x, greedy_spreads,label=\"Greedy\")\n",
    "plt.plot(x, celf_spreads,label=\"CELF\")\n",
    "# naming the x axis \n",
    "plt.xlabel('Size of Seed Set') \n",
    "# naming the y axis \n",
    "plt.ylabel('Expected Spread') \n",
    "  \n",
    "# giving a title to my graph \n",
    "plt.title('Spread-Graph') \n",
    "plt.legend()\n",
    "# function to show the plot \n",
    "plt.show() "
   ]
  },
  {
   "cell_type": "code",
   "execution_count": 14,
   "metadata": {},
   "outputs": [
    {
     "data": {
      "image/png": "[encoded data removed]",
      "text/plain": [
       "<Figure size 432x288 with 1 Axes>"
      ]
     },
     "metadata": {
      "needs_background": "light"
     },
     "output_type": "display_data"
    }
   ],
   "source": [
    "# plotting the points  \n",
    "#plt.plot(x, brute_force_elapsed,label=\"Brute-force\") \n",
    "plt.plot(x, greedy_elapsed,label=\"Greedy\")\n",
    "plt.plot(x, celf_elapsed,label=\"CELF\")\n",
    "# naming the x axis \n",
    "plt.xlabel('Size of Seed Set') \n",
    "# naming the y axis \n",
    "plt.ylabel('Computation Time') \n",
    "  \n",
    "# giving a title to my graph \n",
    "plt.title('Computation-Graph') \n",
    "plt.legend()\n",
    "# function to show the plot \n",
    "plt.show() "
   ]
  },
  {
   "cell_type": "code",
   "execution_count": null,
   "metadata": {},
   "outputs": [],
   "source": []
  }
 ],
 "metadata": {
  "kernelspec": {
   "display_name": "Python 3",
   "language": "python",
   "name": "python3"
  },
  "language_info": {
   "codemirror_mode": {
    "name": "ipython",
    "version": 3
   },
   "file_extension": ".py",
   "mimetype": "text/x-python",
   "name": "python",
   "nbconvert_exporter": "python",
   "pygments_lexer": "ipython3",
   "version": "3.7.4"
  }
 },
 "nbformat": 4,
 "nbformat_minor": 2
}
